{
 "cells": [
  {
   "cell_type": "code",
   "execution_count": 3,
   "id": "31b849bb-d349-48fe-9cd3-da162df22c5c",
   "metadata": {},
   "outputs": [
    {
     "data": {
      "text/html": [
       "### Cambiamos los tamaños de fuente asociados a las tablas\n",
       "<style>\n",
       "    tr { font-size: 18px; background-color: lightblue; font-color: orange}\n",
       "    td { font-size: 18px; }\n",
       "</style>\n"
      ],
      "text/plain": [
       "<IPython.core.display.HTML object>"
      ]
     },
     "metadata": {},
     "output_type": "display_data"
    }
   ],
   "source": [
    "%%HTML\n",
    "### Cambiamos los tamaños de fuente asociados a las tablas\n",
    "<style>\n",
    "    tr { font-size: 18px; background-color: lightblue; font-color: orange}\n",
    "    td { font-size: 18px; }\n",
    "</style>"
   ]
  },
  {
   "cell_type": "markdown",
   "id": "4e1e582d-1212-44a0-844d-41295ef48773",
   "metadata": {},
   "source": [
    "# [SPADE](https://spade-mas.readthedocs.io/en/latest/index.html): Smart Python Agent Development Environment "
   ]
  },
  {
   "cell_type": "markdown",
   "id": "7f8d6572-08b4-4173-b961-def07b66ab1f",
   "metadata": {},
   "source": [
    "## Instalar SPADE"
   ]
  },
  {
   "cell_type": "code",
   "execution_count": 6,
   "id": "44f96948-f32b-4f81-86f7-3d70d63f7924",
   "metadata": {
    "scrolled": true
   },
   "outputs": [],
   "source": [
    "try:\n",
    "    import spade\n",
    "except:\n",
    "    !pip install spade==4.0.2"
   ]
  },
  {
   "cell_type": "markdown",
   "id": "82975814-3919-4ede-9277-e5de20f4703e",
   "metadata": {},
   "source": [
    "***\n",
    "&#9654; Abre una terminal desde el entorno anaconda (primera opción del menú contextual que usaste para abrir **Jupiter**), y en la terminal lanza a ejecución **pyjabber**:\n",
    "\n",
    "`$ pyjabber `\n",
    "***"
   ]
  },
  {
   "cell_type": "markdown",
   "id": "6aa76e60-026f-421f-ac0e-2d9345cad3c7",
   "metadata": {},
   "source": [
    "## Ejemplo 1: Dummy Agent - `dummyagent.py`"
   ]
  },
  {
   "cell_type": "markdown",
   "id": "1d0b5e97-c1a9-4b8a-8ba2-c0eaf4ee39fd",
   "metadata": {},
   "source": [
    "Los agentes SPADE usan comunicación mediante un servidor XMPP. Para ello, tienen que, igual que cualquier usuario, registrarse en el servidor mediante un jid y una clave.\n",
    "\n",
    "El JID contiene el nombre del agente (antes de la @) y el DNS o IP del servidor XMPP (después de la @)."
   ]
  },
  {
   "cell_type": "markdown",
   "id": "60d64364-3d9a-4b68-a2a3-2d0b2800a13f",
   "metadata": {},
   "source": [
    "<div class=\"alert alert-block alert-danger\">\n",
    "<b>NOTA: MUY IMPORTANTE:</b> \n",
    "\n",
    "Un agente se distingue del resto por su identificador, por lo que debe ser único. Antes de ejecutar cualquier ejemplo o agente, cambia su identificador para que, al menos, incluya tu login y así pueda identificarse del resto. \n",
    "    \n",
    "Ejemplo: En el ejemplo siguiente, el agente a ejecutar se llama `Prueba_SPADE@gtirouter.dsic.upv.es`. En mi caso, le cambiaría el nombre para que se llamase `Prueba_SPADE_carrasco@localhost` (además, como he puesto en marcha el servidor XMPP local `pyjabber`, cambiamos la direccion del servidor para que sea `localhost`).  \n",
    "</div>"
   ]
  },
  {
   "cell_type": "code",
   "execution_count": 7,
   "id": "d9905dc0-1dc2-4f02-a47a-616bd0666ba8",
   "metadata": {},
   "outputs": [
    {
     "name": "stdout",
     "output_type": "stream",
     "text": [
      "Hello World! I'm agent prueba_spade_brivaro@gtirouter.dsic.upv.es\n",
      "Prueba\n",
      "False\n"
     ]
    }
   ],
   "source": [
    "import spade\n",
    "\n",
    "class DummyAgent(spade.agent.Agent):\n",
    "    async def setup(self):\n",
    "        print(\"Hello World! I'm agent {}\".format(str(self.jid)))\n",
    "\n",
    "### Añadid vuestro login como parte del JID del agente\n",
    "dummy = DummyAgent(\"Prueba_SPADE_brivaro@gtirouter.dsic.upv.es\", \"SPADE\")\n",
    "await dummy.start()\n",
    "await dummy.stop()\n",
    "print('Prueba')\n",
    "print(dummy.is_alive())"
   ]
  },
  {
   "cell_type": "code",
   "execution_count": 8,
   "id": "29862b9b-bfc7-45e5-b035-f348b8190267",
   "metadata": {},
   "outputs": [
    {
     "name": "stdout",
     "output_type": "stream",
     "text": [
      "Hello World! I'm agent prueba_spade_brivaro@gtirouter.dsic.upv.es\n",
      "Prueba\n",
      "False\n"
     ]
    }
   ],
   "source": [
    "import spade\n",
    "\n",
    "class DummyAgent(spade.agent.Agent):\n",
    "    async def setup(self):\n",
    "        print(\"Hello World! I'm agent {}\".format(str(self.jid)))\n",
    "\n",
    "### Añadid vuestro login como parte del JID del agente\n",
    "dummy = DummyAgent(\"Prueba_SPADE_brivaro@gtirouter.dsic.upv.es\", \"SPADE\")\n",
    "await dummy.start()\n",
    "await dummy.stop()\n",
    "print('Prueba')\n",
    "print(dummy.is_alive())"
   ]
  },
  {
   "cell_type": "markdown",
   "id": "22775dcf-89b1-45c5-bc7a-b47851f3688b",
   "metadata": {},
   "source": [
    "<div class=\"alert alert-block alert-info\">\n",
    "<b>NOTA:</b> \n",
    "\n",
    "Para ejecutar el programa desde una terminal fuera del notebook, en la carpeta donde tenéis el fichero `dummyagent.py` haced: `$ python dummyagent.py`\n",
    "</div>"
   ]
  },
  {
   "cell_type": "markdown",
   "id": "0a950256-c3b0-4fad-873b-f76dcb98f842",
   "metadata": {},
   "source": [
    "Un agente SPADE es un agente asíncrono. Esto significa que todo el código para correr un agente debe ejecutarse en un bucle asíncrono. Este bucle, denominado bucle de eventos (event loop) es el núcleo de cualquier aplicación asíncrona. Los bucles de eventos ejecutan asíncronamente tareas y callbacks, realizan operaciones de E/S y ejecutan subprocesos. \n",
    "\n"
   ]
  },
  {
   "cell_type": "markdown",
   "id": "087721ad-4da6-4c78-8d33-552478734a0a",
   "metadata": {},
   "source": [
    "### [Async IO](https://realpython.com/async-io-python/)\n",
    "\n",
    "Async IO es un paradigma (modelo) de diseño de programación concurrente que tiene implementaciones en una gran cantidad de lenguajes de programación, entre ellos Python.\n",
    "\n",
    " - `asyncio` : el paquete de Python que proporciona una base y una API para ejecutar y gestionar corutinas\n",
    " - `async` / `await` : dos nuevas palabras clave de Python que se utilizan para definir corutinas.\n",
    "     - `async def` introduce una corutina nativa. Puede utilizar `await`, `return` o `yield`, pero todos ellos son opcionales. Declarar `async def noop(): pass` es válido:\n",
    "         - El uso de `await` y/o `return` crea una función corutina. Para llamar a una función corutina, debes esperarla (`await`) para obtener sus resultados.\n",
    "         - Es menos común usar `yield` en un bloque `async def`. Esto crea un generador asíncrono, sobre el que iteras con `async for`.\n",
    "         - Cualquier cosa definida con `async def` no puede usar `yield from`, lo que lanzará un `SyntaxError`.\n",
    "     - Al igual que es un `SyntaxError` usar `yield` fuera de una función `def`, es un `SyntaxError` usar `await` fuera de una corutina `async def`. Sólo puedes usar `await` en el cuerpo de las corutinas.\n",
    "\n",
    "\n",
    "     - `await` devuelve el control de la función al bucle de eventos. (Suspende la ejecución de la corutina circundante). Si Python encuentra una expresión `await f()` en el ámbito de `g()`, así es como `await` le dice al bucle de eventos, \"Suspende la ejecución de `g()` hasta que lo que estoy esperando -el resultado de `f()`- sea devuelto. Mientras tanto, deja que se ejecute otra cosa\".\n",
    "\n"
   ]
  },
  {
   "cell_type": "markdown",
   "id": "5b0166e0-6116-4074-a490-b0237bda6768",
   "metadata": {},
   "source": [
    "`asyncio` es una biblioteca para escribir código concurrente. Sin embargo, async IO no es *threading*, ni multiprocesamiento. No se basa en ninguno de ellos.\n",
    "\n",
    "De hecho, `async IO` es un diseño de un solo hilo y un solo proceso: usa **multitarea cooperativa**. Es decir, `async IO` da una sensación de concurrencia a pesar de usar un único hilo en un único proceso. Las corutinas (una característica central de `async IO`) pueden programarse concurrentemente, pero no son inherentemente concurrentes.\n",
    "\n",
    "Para reiterar, `async IO` es un estilo de programación concurrente, pero no es paralelismo. \n",
    "\n",
    "Las rutinas asíncronas son capaces de \"hacer una pausa\" mientras esperan su resultado final y dejar que otras rutinas se ejecuten mientras tanto.\n",
    "El código asíncrono, a través del mecanismo anterior, facilita la ejecución concurrente. Dicho de otro modo, el código asíncrono da la apariencia de concurrencia."
   ]
  },
  {
   "cell_type": "markdown",
   "id": "3af2f939-43ef-426a-b9c9-df8f6c3187e1",
   "metadata": {},
   "source": [
    "#### Ejemplo de funcionamiento asíncrono.\n",
    "\n",
    "La maestra de ajedrez Judit Polgár organiza una exhibición de ajedrez en la que se enfrenta a varios jugadores aficionados. Tiene dos formas de llevar a cabo la exhibición: de forma sincrónica y de forma asincrónica.\n",
    "        \n",
    "Supuestos:\n",
    "        \n",
    "- 24 adversarios\n",
    "- Judit realiza cada movimiento de ajedrez en 5 segundos\n",
    "- Cada oponente tarda 55 segundos en realizar un movimiento.\n",
    "- Las partidas tienen una media de 30 movimientos por pareja (60 movimientos en total)\n",
    "        \n",
    "**Versión sincrónica** : Judit juega una partida cada vez, nunca dos al mismo tiempo, hasta completar la partida. Cada partida dura (55 + 5) * 30 == 1800 segundos, es decir, 30 minutos. La exhibición completa dura 24 * 30 == 720 minutos, es decir, 12 horas.\n",
    "        \n",
    "**Versión asíncrona** : Judit se mueve de mesa en mesa, haciendo un movimiento en cada mesa. Abandona la mesa y deja que el oponente haga su siguiente movimiento durante el tiempo de espera. Un movimiento en las 24 partidas le lleva a Judit 24 * 5 == 120 segundos, o 2 minutos. La exhibición completa se reduce ahora a 120 * 30 == 3600 segundos, es decir, sólo 1 hora."
   ]
  },
  {
   "cell_type": "markdown",
   "id": "c650e559-d374-4d6c-927d-c8ad6de97e68",
   "metadata": {},
   "source": [
    "Así pues, la multitarea cooperativa es una forma elegante de decir que el bucle de eventos de un programa se comunica con múltiples tareas para permitir que cada una de ellas se ejecute por turnos en el momento óptimo.\n",
    "\n",
    "La IO asíncrona se encarga de los largos periodos de espera en los que las funciones estarían bloqueándose y permite que otras funciones se ejecuten durante ese tiempo de inactividad. (Una función que se bloquea efectivamente prohíbe que otras se ejecuten desde el momento en que se inicia hasta el momento en que regresa)."
   ]
  },
  {
   "cell_type": "markdown",
   "id": "45536a2c-a5d0-4ab4-b5a1-4c918cd1125a",
   "metadata": {},
   "source": [
    "Asyncio proporciona a las tareas la capacidad de ceder explícitamente el control bajo demanda durmiendo mediante `asyncio.sleep()`.\n",
    "\n",
    "Se denomina \"no bloqueante\", lo que significa que no bloquea la ejecución del subproceso actual. Esto significa que mientras una coroutina o tarea está durmiendo, otras tareas y coroutinas pueden ejecutarse.\n",
    "\n",
    "También podemos dormir durante cero segundos.\n",
    "\n",
    "Se trata de un periodo de reposo especial. Significa que la tarea o coroutina actual se suspenderá y el bucle de eventos de asyncio permitirá que otras tareas o coroutinas se ejecuten.\n",
    "\n",
    "La coroutina o tarea actual se reanudará tan pronto como sea posible, que puede ser más de 0 segundos.\n",
    "\n",
    "Es una forma de que una tarea pueda ceder el control por un momento para permitir que otras tareas se ejecuten."
   ]
  },
  {
   "cell_type": "markdown",
   "id": "bce0b705-b4c9-4cf4-87f2-edab83b99b9a",
   "metadata": {},
   "source": [
    "La diferencia importante entre `asyncio.sleep()` y `time.sleep()` es que `asyncio.sleep()` es no bloqueante y `time.sleep()` es bloqueante:\n",
    "\n",
    "- `time.sleep()`: bloquea el hilo actual. Mientras está bloqueado, otros hilos pueden ejecutarse. En la mayoría de ocasiones, esto supone bloquear el agente completo.\n",
    "- `asyncio.sleep()`: bloquea la corutina actual (tarea `asyncio`). Mientras está bloqueada, otras corutinas pueden ejecutarse. Esto va a suponer, normalmente, bloquear el comportamiento actual del agente, permitiendo entrar otros comportamientos."
   ]
  },
  {
   "cell_type": "markdown",
   "id": "75affe05-130c-4e46-9c62-e2fd46a69ddc",
   "metadata": {},
   "source": [
    "## Ejemplo 2: Un agente con un comportamiento - `dummyagent_behav_self_kill.py`"
   ]
  },
  {
   "cell_type": "markdown",
   "id": "6006a194-8a19-4960-b140-f44b86030f8f",
   "metadata": {},
   "source": [
    "La programación de agentes SPADE se realiza en su mayoría mediante comportamientos (`behaviors`).\n",
    "\n",
    "Vamos a crear un comportamiento cíclico que realiza una tarea (un contador simple). Para ello definimos un comportamiento llamado `MyBehav`que hereda de la clase `spade.behaviour.CyclicBehaviour`. Esta clase representa un comportamiento cíclico que no tiene un periodo especificado, es decir, un comportamiento tipo bucle. \n",
    "\n",
    "Hay dos métodos especiales en el comportamiento:\n",
    "\n",
    "- `on_start()`: Este método es similar al método `setup()` de la clase agente. Se ejecuta antes de que comience la iteración principal del comportamiento y se usa para el código de inicialización. En este caso, imprimimos una línea e inicializamos la variable contador.\n",
    "- `on_end()`: Se ejecuta cuando el comportamiento se ha realizado o eliminado.\n",
    "- `run()`: Éste es el método donde se realiza el núcleo de la programación del comportamient, porque es el que se llama en cada iteración del ciclo del comportamiento. Actúa como el cuerpo del bucle. En nuestro ejemplo, imprime el valor actual del contador, lo incrementa y si dicho contador es mayor que 3, mata el comportamiento. En otro caso, espera por un segundo (para iterar de nuevo)."
   ]
  },
  {
   "cell_type": "markdown",
   "id": "3fd75b26-983c-48db-9ab3-8ea315519ec9",
   "metadata": {},
   "source": [
    "El método `run()` es una corutina asíncrona. Esto es muy importante, ya que SPADE es una biblioteca asíncrona basada en `asyncio` de python. Por eso podemos llamar a métodos asíncronos desde dentro del método `run()`, como `await asyncio.sleep(1)`, que permite dormir durante un segundo el comportamiento sin bloquear el bucle de eventos."
   ]
  },
  {
   "cell_type": "code",
   "execution_count": 9,
   "id": "625b027d-47d5-4d4e-b768-45995be7d971",
   "metadata": {},
   "outputs": [
    {
     "name": "stdout",
     "output_type": "stream",
     "text": [
      "Agent starting . . .\n",
      "Starting behaviour . . .\n",
      "Counter: 0\n",
      "Counter: 1\n",
      "Counter: 2\n",
      "Counter: 3\n",
      "Behaviour finished with exit code 10.\n"
     ]
    }
   ],
   "source": [
    "import asyncio\n",
    "import spade\n",
    "from spade.agent import Agent\n",
    "from spade.behaviour import CyclicBehaviour\n",
    "\n",
    "class DummyAgent(Agent):\n",
    "    class MyBehav(CyclicBehaviour):\n",
    "        async def on_start(self):\n",
    "            print(\"Starting behaviour . . .\")\n",
    "            self.counter = 0\n",
    "\n",
    "        async def run(self):\n",
    "            print(\"Counter: {}\".format(self.counter))\n",
    "            self.counter += 1\n",
    "            if self.counter > 3:\n",
    "                self.kill(exit_code=10)\n",
    "                return\n",
    "            await asyncio.sleep(1)\n",
    "\n",
    "        async def on_end(self):\n",
    "            print(\"Behaviour finished with exit code {}.\".format(self.exit_code))\n",
    "\n",
    "    async def setup(self):\n",
    "        print(\"Agent starting . . .\")\n",
    "        self.my_behav = self.MyBehav()\n",
    "        self.add_behaviour(self.my_behav)\n",
    "\n",
    "### Añadid vuestro login como parte del JID del agente\n",
    "dummy = DummyAgent(\"Prueba_SPADE_brivaro@gtirouter.dsic.upv.es\", \"SPADE\")\n",
    "await dummy.start()\n",
    "\n",
    "### wait until user interrupts with ctrl+C\n",
    "while not dummy.my_behav.is_killed():\n",
    "    try:\n",
    "        await asyncio.sleep(1)\n",
    "    except KeyboardInterrupt:\n",
    "        break\n",
    "\n",
    "assert dummy.my_behav.exit_code == 10\n",
    "\n",
    "await dummy.stop()"
   ]
  },
  {
   "cell_type": "markdown",
   "id": "b48d9eca-37da-4cf5-9c0d-6a32951078ca",
   "metadata": {},
   "source": [
    "## Ejemplo 3: Emisor y Receptor - `sender_receiver.py`"
   ]
  },
  {
   "cell_type": "code",
   "execution_count": 10,
   "id": "072b2842-3fdf-4f31-80f0-0d1e50dfa5b6",
   "metadata": {},
   "outputs": [],
   "source": [
    "import spade\n",
    "from spade.agent import Agent\n",
    "from spade.behaviour import OneShotBehaviour\n",
    "from spade.message import Message\n",
    "\n",
    "class SenderAgent(Agent):\n",
    "    class SendBehaviour(OneShotBehaviour):\n",
    "        async def run(self):\n",
    "            ### Añadid vuestro login como parte del JID del agente\n",
    "            msg = Message(to=\"receiver_brivaro@gtirouter.dsic.upv.es\")  # Destinatario\n",
    "            msg.set_metadata(\"performative\", \"inform\")  # Tipo de mensaje\n",
    "            msg.body = \"Hola desde el agente emisor! Eres un puto genio\"\n",
    "\n",
    "            await self.send(msg)\n",
    "            print(\"Mensaje enviado!\")\n",
    "\n",
    "    async def setup(self):\n",
    "        self.add_behaviour(self.SendBehaviour())\n",
    "\n",
    "class ReceiverAgent(Agent):\n",
    "    class ReceiveBehaviour(OneShotBehaviour):\n",
    "        async def run(self):\n",
    "            msg = await self.receive(timeout=10)  # Espera por un mensaje por 10 segundos\n",
    "            if msg:\n",
    "                print(\"Mensaje recibido:\", msg.body)\n",
    "            else:\n",
    "                print(\"No se recibió ningún mensaje.\")\n",
    "\n",
    "    async def setup(self):\n",
    "        self.add_behaviour(self.ReceiveBehaviour())"
   ]
  },
  {
   "cell_type": "code",
   "execution_count": 11,
   "id": "0d9ec542-1bca-4ac1-bad0-49902e30a71f",
   "metadata": {},
   "outputs": [
    {
     "name": "stdout",
     "output_type": "stream",
     "text": [
      "Mensaje enviado!\n"
     ]
    },
    {
     "name": "stdout",
     "output_type": "stream",
     "text": [
      "Mensaje recibido: Hola desde el agente emisor! Eres un puto genio\n"
     ]
    }
   ],
   "source": [
    "### Añadid vuestro login como parte del JID de los agentes\n",
    "sender = SenderAgent(\"sender_brivaro@gtirouter.dsic.upv.es\", \"secret\")\n",
    "receiver = ReceiverAgent(\"receiver_brivaro@gtirouter.dsic.upv.es\", \"secret\")\n",
    "\n",
    "await receiver.start()\n",
    "\n",
    "await sender.start()"
   ]
  },
  {
   "cell_type": "markdown",
   "id": "0f89df7e-5dd7-405a-9314-1bbc623124e0",
   "metadata": {},
   "source": [
    "## Ejemplo 4: Emisor periódico y Receptor que imprime los mensajes - `periodic_sender_receiver.py`"
   ]
  },
  {
   "cell_type": "code",
   "execution_count": 12,
   "id": "9571a278-d820-4155-8f36-ed69d7a3c688",
   "metadata": {},
   "outputs": [],
   "source": [
    "# Código para el sistema con dos agentes: uno envía mensajes periódicamente y el otro los recibe\n",
    "\n",
    "import spade\n",
    "from spade.agent import Agent\n",
    "from spade.behaviour import CyclicBehaviour, PeriodicBehaviour\n",
    "from spade.message import Message\n",
    "import asyncio\n",
    "\n",
    "class PeriodicSenderAgent(Agent):\n",
    "    class SendPeriodicBehaviour(PeriodicBehaviour):\n",
    "        async def run(self):\n",
    "            ### Añadid vuestro login como parte del JID del agente\n",
    "            msg = Message(to=\"receiver_brivaro@gtirouter.dsic.upv.es\")  # Asegúrate de reemplazar esto con el JID correcto del receptor\n",
    "            msg.set_metadata(\"performative\", \"inform\")\n",
    "            msg.body = \"Mensaje periódico del agente emisor molongo\"\n",
    "\n",
    "            await self.send(msg)\n",
    "            print(\"Mensaje enviado.\")\n",
    "\n",
    "    async def setup(self):\n",
    "        # Ejemplo: enviar un mensaje cada 5 segundos\n",
    "        periodic_behaviour = self.SendPeriodicBehaviour(period=5)\n",
    "        self.add_behaviour(periodic_behaviour)\n",
    "\n",
    "class ReceiverAgent(Agent):\n",
    "    class ReceiveBehaviour(CyclicBehaviour):\n",
    "        async def run(self):\n",
    "            msg = await self.receive(timeout=10)  # Espera por un mensaje por 10 segundos\n",
    "            if msg:\n",
    "                print(\"Mensaje recibido:\", msg.body)\n",
    "            else:\n",
    "                print(\"Tiempo de espera excedido sin recibir mensaje.\")\n",
    "\n",
    "    async def setup(self):\n",
    "        self.add_behaviour(self.ReceiveBehaviour())"
   ]
  },
  {
   "cell_type": "code",
   "execution_count": null,
   "id": "ed3e4ae7-25ba-417a-8746-f438c9b9622d",
   "metadata": {},
   "outputs": [],
   "source": [
    "### Añadid vuestro login como parte del JID de los agentes\n",
    "sender = PeriodicSenderAgent(\"sender_brivaro@gtirouter.dsic.upv.es\", \"secret\")\n",
    "receiver = ReceiverAgent(\"receiver_brivaro@gtirouter.dsic.upv.es\", \"secret\")\n",
    "await receiver.start()\n",
    "await sender.start()"
   ]
  },
  {
   "cell_type": "markdown",
   "id": "73537946-91e4-4a61-8034-1bedb5d69ec2",
   "metadata": {},
   "source": [
    "| Ejercicio 1 |\n",
    "|------------:|\n",
    "| Modifica el ejemplo anterior para que 20 segundos después de haber comenzado la ejecución de los dos agentes, los elimine.|"
   ]
  },
  {
   "cell_type": "code",
   "execution_count": null,
   "id": "7d679658-bda4-47ed-be8e-b317c24e0559",
   "metadata": {},
   "outputs": [
    {
     "name": "stdout",
     "output_type": "stream",
     "text": [
      "Mensaje recibido: Mensaje periódico del agente emisor molongo\n",
      "Los agentes han comenzado. Se detendrán en 20 segundos...\n",
      "Mensaje enviado.\n",
      "Mensaje recibido: Mensaje periódico del agente emisor molongo\n",
      "Mensaje recibido: Mensaje periódico del agente emisor molongo\n",
      "Mensaje enviado.\n",
      "Mensaje recibido: Mensaje periódico del agente emisor molongo\n",
      "Mensaje recibido: Mensaje periódico del agente emisor molongo\n",
      "Mensaje enviado.\n",
      "Mensaje recibido: Mensaje periódico del agente emisor molongo\n",
      "Mensaje recibido: Mensaje periódico del agente emisor molongo\n",
      "Mensaje enviado.\n",
      "Mensaje recibido: Mensaje periódico del agente emisor molongo\n",
      "Mensaje recibido: Mensaje periódico del agente emisor molongo\n",
      "Deteniendo los agentes...\n",
      "Agentes detenidos.\n"
     ]
    },
    {
     "name": "stdout",
     "output_type": "stream",
     "text": [
      "Mensaje recibido: Mensaje periódico del agente emisor molongo\n"
     ]
    }
   ],
   "source": [
    "sender = PeriodicSenderAgent(\"sender_brivaro@gtirouter.dsic.upv.es\", \"secret\")\n",
    "receiver = ReceiverAgent(\"receiver_brivaro@gtirouter.dsic.upv.es\", \"secret\")\n",
    "\n",
    "await receiver.start()\n",
    "await sender.start()\n",
    "\n",
    "print(\"Los agentes han comenzado. Se detendrán en 20 segundos...\")\n",
    "\n",
    "await asyncio.sleep(20)  # Espera 20 segundos\n",
    "\n",
    "print(\"Deteniendo los agentes...\")\n",
    "await sender.stop()\n",
    "await receiver.stop()\n",
    "print(\"Agentes detenidos.\")"
   ]
  },
  {
   "cell_type": "markdown",
   "id": "ddb2cd6f-7875-4e4b-97b7-ae854fc23905",
   "metadata": {},
   "source": [
    "## Ejemplo 5: Un agente propone a otros agentes que le envien un dato y simplemente lo almacena - `solicitar_dato_receptores.py`"
   ]
  },
  {
   "cell_type": "code",
   "execution_count": 16,
   "id": "5ef6bcba-9fd8-46c4-8381-fce5164a023b",
   "metadata": {},
   "outputs": [],
   "source": [
    "import spade\n",
    "import asyncio\n",
    "import random\n",
    "\n",
    "class AgentePropositor(spade.agent.Agent):\n",
    "    async def setup(self):\n",
    "        print(f\"{self.name} iniciado\")\n",
    "        self.add_behaviour(self.ProposeBehaviour())\n",
    "\n",
    "    class ProposeBehaviour(spade.behaviour.OneShotBehaviour):\n",
    "        async def run(self):\n",
    "            ### Añadid vuestro login como parte del JID de los agentes\n",
    "            receivers = [\"agente_receptor51_brivaro@gtirouter.dsic.upv.es\", \"agente_receptor52_brivaro@gtirouter.dsic.upv.es\", \"agente_receptor53_brivaro@gtirouter.dsic.upv.es\"]\n",
    "            for receiver in receivers:\n",
    "                msg = spade.message.Message(\n",
    "                    to=receiver,\n",
    "                    body=\"propuesta\",\n",
    "                    metadata={\"performative\": \"propose\"}\n",
    "                )\n",
    "                await self.send(msg)\n",
    "                print(f\"Propuesta enviada a {receiver}\")\n",
    "\n",
    "            # Esperar y recoger respuestas\n",
    "            self.agent.responses = []\n",
    "            for _ in range(3):\n",
    "                response = await self.receive(timeout=10)\n",
    "                if response:\n",
    "                    self.agent.responses.append(response.body)\n",
    "            print(\"Respuestas recibidas:\", self.agent.responses)\n",
    "\n",
    "class AgenteReceptor(spade.agent.Agent):\n",
    "    async def setup(self):\n",
    "        print(f\"{self.name} iniciado\")\n",
    "        self.add_behaviour(self.ReceiveBehaviour())\n",
    "\n",
    "    class ReceiveBehaviour(spade.behaviour.CyclicBehaviour):\n",
    "        async def run(self):\n",
    "            msg = await self.receive(timeout=10)\n",
    "            if msg:\n",
    "                number = str(random.randint(1, 100))\n",
    "                reply = msg.make_reply()\n",
    "                reply.body = number\n",
    "                await self.send(reply)\n",
    "                print(f\"{self.agent.name} respondió con {number}\")\n"
   ]
  },
  {
   "cell_type": "code",
   "execution_count": 17,
   "id": "b80bfa3f-e034-4c0e-832f-7052b43c3b35",
   "metadata": {},
   "outputs": [
    {
     "name": "stdout",
     "output_type": "stream",
     "text": [
      "agente_receptor51_brivaro iniciado\n",
      "agente_receptor52_brivaro iniciado\n",
      "agente_receptor53_brivaro iniciado\n",
      "agente_propositor5_brivaro iniciado\n",
      "Propuesta enviada a agente_receptor51_brivaro@gtirouter.dsic.upv.es\n",
      "Propuesta enviada a agente_receptor52_brivaro@gtirouter.dsic.upv.es\n",
      "Propuesta enviada a agente_receptor53_brivaro@gtirouter.dsic.upv.es\n"
     ]
    },
    {
     "name": "stdout",
     "output_type": "stream",
     "text": [
      "agente_receptor51_brivaro respondió con 34\n",
      "agente_receptor52_brivaro respondió con 65\n",
      "agente_receptor53_brivaro respondió con 58\n",
      "Respuestas recibidas: ['34', '65', '58']\n"
     ]
    }
   ],
   "source": [
    "# Crear agentes\n",
    "### Añadid vuestro login como parte del JID de los agentes\n",
    "agente_propositor = AgentePropositor(\"agente_propositor5_brivaro@gtirouter.dsic.upv.es\", \"secret\")\n",
    "agente_receptor1 = AgenteReceptor(\"agente_receptor51_brivaro@gtirouter.dsic.upv.es\", \"secret\")\n",
    "agente_receptor2 = AgenteReceptor(\"agente_receptor52_brivaro@gtirouter.dsic.upv.es\", \"secret\")\n",
    "agente_receptor3 = AgenteReceptor(\"agente_receptor53_brivaro@gtirouter.dsic.upv.es\", \"secret\")\n",
    "\n",
    "# Iniciar agentes\n",
    "\n",
    "await agente_receptor1.start()\n",
    "await agente_receptor2.start()\n",
    "await agente_receptor3.start()\n",
    "\n",
    "await agente_propositor.start()"
   ]
  },
  {
   "cell_type": "markdown",
   "id": "2605aee7-5475-4159-af88-0983aad376e9",
   "metadata": {},
   "source": [
    "| Ejercicio 2 |\n",
    "|------------:|\n",
    "| Modifica el ejemplo anterior para que 20 segundos después de haber comenzado la ejecución de los agentes, los elimine.|"
   ]
  },
  {
   "cell_type": "code",
   "execution_count": 18,
   "id": "dfe2bbb1-5c7c-49b1-a470-ddb852fd3cf4",
   "metadata": {},
   "outputs": [
    {
     "name": "stdout",
     "output_type": "stream",
     "text": [
      "agente_receptor51_brivaro iniciado\n",
      "agente_receptor52_brivaro iniciado\n",
      "agente_receptor53_brivaro iniciado\n",
      "agente_propositor5_brivaro iniciado\n",
      "Los agentes han comenzado. Se detendrán en 20 segundos...\n",
      "Propuesta enviada a agente_receptor51_brivaro@gtirouter.dsic.upv.es\n",
      "Propuesta enviada a agente_receptor52_brivaro@gtirouter.dsic.upv.es\n",
      "Propuesta enviada a agente_receptor53_brivaro@gtirouter.dsic.upv.es\n",
      "agente_receptor51_brivaro respondió con 97\n",
      "agente_receptor52_brivaro respondió con 88\n",
      "agente_receptor53_brivaro respondió con 23\n",
      "Respuestas recibidas: ['97', '88', '23']\n",
      "Deteniendo los agentes...\n",
      "Agentes detenidos.\n"
     ]
    }
   ],
   "source": [
    "agente_propositor = AgentePropositor(\"agente_propositor5_brivaro@gtirouter.dsic.upv.es\", \"secret\")\n",
    "agente_receptor1 = AgenteReceptor(\"agente_receptor51_brivaro@gtirouter.dsic.upv.es\", \"secret\")\n",
    "agente_receptor2 = AgenteReceptor(\"agente_receptor52_brivaro@gtirouter.dsic.upv.es\", \"secret\")\n",
    "agente_receptor3 = AgenteReceptor(\"agente_receptor53_brivaro@gtirouter.dsic.upv.es\", \"secret\")\n",
    "\n",
    "await agente_receptor1.start()\n",
    "await agente_receptor2.start()\n",
    "await agente_receptor3.start()\n",
    "\n",
    "await agente_propositor.start()\n",
    "\n",
    "print(\"Los agentes han comenzado. Se detendrán en 20 segundos...\")\n",
    "\n",
    "await asyncio.sleep(20)  # Espera 20 segundos\n",
    "\n",
    "print(\"Deteniendo los agentes...\")\n",
    "await agente_receptor1.stop()\n",
    "await agente_receptor2.stop()\n",
    "await agente_receptor3.stop()\n",
    "\n",
    "await agente_propositor.stop()\n",
    "print(\"Agentes detenidos.\")"
   ]
  },
  {
   "cell_type": "markdown",
   "id": "d833f98e",
   "metadata": {},
   "source": [
    "``voy a añadir un end para que los agentes se despidan``"
   ]
  },
  {
   "cell_type": "code",
   "execution_count": 19,
   "id": "32bc9239",
   "metadata": {},
   "outputs": [],
   "source": [
    "import spade\n",
    "import asyncio\n",
    "import random\n",
    "\n",
    "class AgentePropositor(spade.agent.Agent):\n",
    "    async def setup(self):\n",
    "        print(f\"{self.name} iniciado\")\n",
    "        self.add_behaviour(self.ProposeBehaviour())\n",
    "\n",
    "    class ProposeBehaviour(spade.behaviour.OneShotBehaviour):\n",
    "        async def run(self):\n",
    "            ### Añadid vuestro login como parte del JID de los agentes\n",
    "            receivers = [\"agente_receptor51_brivaro@gtirouter.dsic.upv.es\", \"agente_receptor52_brivaro@gtirouter.dsic.upv.es\", \"agente_receptor53_brivaro@gtirouter.dsic.upv.es\"]\n",
    "            for receiver in receivers:\n",
    "                msg = spade.message.Message(\n",
    "                    to=receiver,\n",
    "                    body=\"propuesta\",\n",
    "                    metadata={\"performative\": \"propose\"}\n",
    "                )\n",
    "                await self.send(msg)\n",
    "                print(f\"Propuesta enviada a {receiver}\")\n",
    "\n",
    "            # Esperar y recoger respuestas\n",
    "            self.agent.responses = []\n",
    "            for _ in range(3):\n",
    "                response = await self.receive(timeout=10)\n",
    "                if response:\n",
    "                    self.agent.responses.append(response.body)\n",
    "            print(\"Respuestas recibidas:\", self.agent.responses)\n",
    "        \n",
    "        async def on_end(self):\n",
    "            print(\"Me las piro, vampiro :) soy el agente con JID: \", self.agent.name)\n",
    "\n",
    "class AgenteReceptor(spade.agent.Agent):\n",
    "    async def setup(self):\n",
    "        print(f\"{self.name} iniciado\")\n",
    "        self.add_behaviour(self.ReceiveBehaviour())\n",
    "\n",
    "    class ReceiveBehaviour(spade.behaviour.CyclicBehaviour):\n",
    "        async def run(self):\n",
    "            msg = await self.receive(timeout=10)\n",
    "            if msg:\n",
    "                number = str(random.randint(1, 100))\n",
    "                reply = msg.make_reply()\n",
    "                reply.body = number\n",
    "                await self.send(reply)\n",
    "                print(f\"{self.agent.name} respondió con {number}\")\n",
    "            else:\n",
    "                print(\"No se recibió ningún mensaje en el tiempo especificado.\")\n",
    "        async def on_end(self):\n",
    "            print(\"Me las piro, vampiro :) soy el agente con JID: \", self.agent.name)"
   ]
  },
  {
   "cell_type": "code",
   "execution_count": 20,
   "id": "6291e305",
   "metadata": {},
   "outputs": [
    {
     "name": "stdout",
     "output_type": "stream",
     "text": [
      "agente_receptor51_brivaro iniciado\n",
      "agente_receptor52_brivaro iniciado\n",
      "agente_receptor53_brivaro iniciado\n",
      "agente_propositor5_brivaro iniciado\n",
      "Los agentes han comenzado. Se detendrán en 20 segundos...\n",
      "Propuesta enviada a agente_receptor51_brivaro@gtirouter.dsic.upv.es\n",
      "Propuesta enviada a agente_receptor52_brivaro@gtirouter.dsic.upv.es\n",
      "Propuesta enviada a agente_receptor53_brivaro@gtirouter.dsic.upv.es\n",
      "agente_receptor51_brivaro respondió con 83\n",
      "agente_receptor52_brivaro respondió con 89\n",
      "agente_receptor53_brivaro respondió con 63\n",
      "Respuestas recibidas: ['83', '89', '63']\n",
      "Me las piro, vampiro :) soy el agente con JID:  agente_propositor5_brivaro\n",
      "No se recibió ningún mensaje en el tiempo especificado.\n",
      "No se recibió ningún mensaje en el tiempo especificado.\n",
      "No se recibió ningún mensaje en el tiempo especificado.\n",
      "No se recibió ningún mensaje en el tiempo especificado.\n",
      "No se recibió ningún mensaje en el tiempo especificado.\n",
      "No se recibió ningún mensaje en el tiempo especificado.\n",
      "Deteniendo los agentes...\n",
      "Me las piro, vampiro :) soy el agente con JID:  agente_receptor51_brivaro\n",
      "Agentes detenidos.\n"
     ]
    },
    {
     "name": "stdout",
     "output_type": "stream",
     "text": [
      "No se recibió ningún mensaje en el tiempo especificado.\n",
      "No se recibió ningún mensaje en el tiempo especificado.\n",
      "Me las piro, vampiro :) soy el agente con JID:  agente_receptor52_brivaro\n",
      "Me las piro, vampiro :) soy el agente con JID:  agente_receptor53_brivaro\n"
     ]
    }
   ],
   "source": [
    "agente_propositor = AgentePropositor(\"agente_propositor5_brivaro@gtirouter.dsic.upv.es\", \"secret\")\n",
    "agente_receptor1 = AgenteReceptor(\"agente_receptor51_brivaro@gtirouter.dsic.upv.es\", \"secret\")\n",
    "agente_receptor2 = AgenteReceptor(\"agente_receptor52_brivaro@gtirouter.dsic.upv.es\", \"secret\")\n",
    "agente_receptor3 = AgenteReceptor(\"agente_receptor53_brivaro@gtirouter.dsic.upv.es\", \"secret\")\n",
    "\n",
    "await agente_receptor1.start()\n",
    "await agente_receptor2.start()\n",
    "await agente_receptor3.start()\n",
    "\n",
    "await agente_propositor.start()\n",
    "\n",
    "print(\"Los agentes han comenzado. Se detendrán en 20 segundos...\")\n",
    "\n",
    "await asyncio.sleep(20)  # Espera 20 segundos\n",
    "\n",
    "print(\"Deteniendo los agentes...\")\n",
    "await agente_receptor1.stop()\n",
    "await agente_receptor2.stop()\n",
    "await agente_receptor3.stop()\n",
    "\n",
    "await agente_propositor.stop()\n",
    "print(\"Agentes detenidos.\")"
   ]
  },
  {
   "cell_type": "markdown",
   "id": "3bad5b9b-6b3d-483d-9959-bb0e44072bc8",
   "metadata": {},
   "source": [
    "## Ejemplo 6: Un agente propone a otros agentes, recibe respuestas, las procesa y selecciona una contestando al elegido que ha sido seleccionado - `solicitar_dato_elegir.py` "
   ]
  },
  {
   "cell_type": "code",
   "execution_count": 21,
   "id": "da0fd2d8-b7d2-4f7b-9c88-34ec621bce8c",
   "metadata": {},
   "outputs": [],
   "source": [
    "import spade\n",
    "import asyncio\n",
    "import random\n",
    "\n",
    "class AgentePropositor(spade.agent.Agent):\n",
    "    async def setup(self):\n",
    "        print(f\"{self.name} iniciado\")\n",
    "        self.add_behaviour(self.ProposeBehaviour())\n",
    "\n",
    "    class ProposeBehaviour(spade.behaviour.OneShotBehaviour):\n",
    "        async def run(self):\n",
    "            ### Añadid vuestro login como parte del JID de los agentes\n",
    "            receivers = [\"receptor61_brivaro@gtirouter.dsic.upv.es\", \"receptor62_brivaro@gtirouter.dsic.upv.es\", \"receptor63_brivaro@gtirouter.dsic.upv.es\"]\n",
    "            self.agent.responses = {}\n",
    "\n",
    "            # Enviar propuestas a cada receptor\n",
    "            for receiver in receivers:\n",
    "                msg = spade.message.Message(\n",
    "                    to=receiver,\n",
    "                    body=\"propuesta\",\n",
    "                    metadata={\"performative\": \"propose\"}\n",
    "                )\n",
    "                await self.send(msg)\n",
    "                print(f\"Propuesta enviada a {receiver}\")\n",
    "\n",
    "            # Esperar y recoger respuestas\n",
    "            for _ in range(3):\n",
    "                response = await self.receive(timeout=10)\n",
    "                if response:\n",
    "                    self.agent.responses[str(response.sender).split(\"@\")[0]] = response.body\n",
    "\n",
    "            print(\"Respuestas recibidas:\", self.agent.responses)\n",
    "\n",
    "            # Seleccionar y enviar respuesta\n",
    "            if self.agent.responses:\n",
    "                selected_agent, selected_value = random.choice(list(self.agent.responses.items()))\n",
    "                response_msg = spade.message.Message(\n",
    "                    to=f\"{selected_agent}@gtirouter.dsic.upv.es\",\n",
    "                    body=f\"Tu valor {selected_value} fue seleccionado\",\n",
    "                    metadata={\"performative\": \"inform\"}\n",
    "                )\n",
    "                await self.send(response_msg)\n",
    "                print(f\"Enviada respuesta a {selected_agent} sobre valor seleccionado: {selected_value}\")\n",
    "\n",
    "class AgenteReceptor(spade.agent.Agent):\n",
    "    async def setup(self):\n",
    "        print(f\"{self.name} iniciado\")\n",
    "        self.add_behaviour(self.ReceiveBehaviour())\n",
    "        self.add_behaviour(self.InformBehaviour())\n",
    "\n",
    "    class ReceiveBehaviour(spade.behaviour.CyclicBehaviour):\n",
    "        async def run(self):\n",
    "            msg = await self.receive(timeout=10)\n",
    "            if msg and msg.metadata[\"performative\"] == \"propose\":\n",
    "                number = str(random.randint(1, 100))\n",
    "                reply = msg.make_reply()\n",
    "                reply.body = number\n",
    "                await self.send(reply)\n",
    "                print(f\"{self.agent.name} respondió con {number}\")\n",
    "\n",
    "    class InformBehaviour(spade.behaviour.CyclicBehaviour):\n",
    "        async def run(self):\n",
    "            msg = await self.receive(timeout=10)\n",
    "            if msg and msg.metadata[\"performative\"] == \"inform\":\n",
    "                print(f\"{self.agent.name} recibió mensaje de selección: {msg.body}\")\n"
   ]
  },
  {
   "cell_type": "code",
   "execution_count": 22,
   "id": "9f3f8b2c-8be8-41ae-ae36-f867d0be3ebe",
   "metadata": {
    "scrolled": true
   },
   "outputs": [
    {
     "name": "stdout",
     "output_type": "stream",
     "text": [
      "receptor61_brivaro iniciado\n",
      "receptor62_brivaro iniciado\n",
      "receptor63_brivaro iniciado\n",
      "propositor6_brivaro iniciado\n",
      "Propuesta enviada a receptor61_brivaro@gtirouter.dsic.upv.es\n",
      "Propuesta enviada a receptor62_brivaro@gtirouter.dsic.upv.es\n",
      "Propuesta enviada a receptor63_brivaro@gtirouter.dsic.upv.es\n"
     ]
    },
    {
     "name": "stdout",
     "output_type": "stream",
     "text": [
      "receptor61_brivaro respondió con 75\n",
      "receptor62_brivaro respondió con 75\n",
      "receptor63_brivaro respondió con 34\n",
      "Respuestas recibidas: {'receptor61_brivaro': '75', 'receptor62_brivaro': '75', 'receptor63_brivaro': '34'}\n",
      "Enviada respuesta a receptor63_brivaro sobre valor seleccionado: 34\n",
      "receptor63_brivaro recibió mensaje de selección: Tu valor 34 fue seleccionado\n"
     ]
    }
   ],
   "source": [
    "# Crear agentes\n",
    "### Añadid vuestro login como parte del JID de los agentes\n",
    "agente_propositor = AgentePropositor(\"propositor6_brivaro@gtirouter.dsic.upv.es\", \"secret\")\n",
    "agente_receptor1 = AgenteReceptor(\"receptor61_brivaro@gtirouter.dsic.upv.es\", \"secret\")\n",
    "agente_receptor2 = AgenteReceptor(\"receptor62_brivaro@gtirouter.dsic.upv.es\", \"secret\")\n",
    "agente_receptor3 = AgenteReceptor(\"receptor63_brivaro@gtirouter.dsic.upv.es\", \"secret\")\n",
    "\n",
    "# Iniciar agentes\n",
    "\n",
    "await agente_receptor1.start()\n",
    "await agente_receptor2.start()\n",
    "await agente_receptor3.start()\n",
    "await asyncio.sleep(1)\n",
    "await agente_propositor.start()"
   ]
  },
  {
   "cell_type": "markdown",
   "id": "8f8e3e49-e4c5-48b5-b121-400447c8bbee",
   "metadata": {},
   "source": [
    "| Ejercicio 3 |\n",
    "|------------:|\n",
    "| Modifica el ejemplo anterior para que 20 segundos después de haber comenzado la ejecución de los agentes, los elimine.|"
   ]
  },
  {
   "cell_type": "code",
   "execution_count": 23,
   "id": "a6130424-6eb3-4c28-bdbd-aee534b90faf",
   "metadata": {},
   "outputs": [
    {
     "name": "stdout",
     "output_type": "stream",
     "text": [
      "receptor61_brivaro iniciado\n",
      "receptor62_brivaro iniciado\n",
      "receptor63_brivaro iniciado\n",
      "propositor6_brivaro iniciado\n",
      "Los agentes han comenzado. Se detendrán en 20 segundos...\n",
      "Propuesta enviada a receptor61_brivaro@gtirouter.dsic.upv.es\n",
      "Propuesta enviada a receptor62_brivaro@gtirouter.dsic.upv.es\n",
      "Propuesta enviada a receptor63_brivaro@gtirouter.dsic.upv.es\n",
      "receptor61_brivaro respondió con 96\n",
      "receptor62_brivaro respondió con 31\n",
      "receptor63_brivaro respondió con 61\n",
      "Respuestas recibidas: {'receptor61_brivaro': '96', 'receptor62_brivaro': '31', 'receptor63_brivaro': '61'}\n",
      "Enviada respuesta a receptor61_brivaro sobre valor seleccionado: 96\n",
      "receptor61_brivaro recibió mensaje de selección: Tu valor 96 fue seleccionado\n",
      "Deteniendo los agentes...\n",
      "Agentes detenidos.\n"
     ]
    }
   ],
   "source": [
    "agente_propositor = AgentePropositor(\"propositor6_brivaro@gtirouter.dsic.upv.es\", \"secret\")\n",
    "agente_receptor1 = AgenteReceptor(\"receptor61_brivaro@gtirouter.dsic.upv.es\", \"secret\")\n",
    "agente_receptor2 = AgenteReceptor(\"receptor62_brivaro@gtirouter.dsic.upv.es\", \"secret\")\n",
    "agente_receptor3 = AgenteReceptor(\"receptor63_brivaro@gtirouter.dsic.upv.es\", \"secret\")\n",
    "\n",
    "await agente_receptor1.start()\n",
    "await agente_receptor2.start()\n",
    "await agente_receptor3.start()\n",
    "\n",
    "await agente_propositor.start()\n",
    "\n",
    "print(\"Los agentes han comenzado. Se detendrán en 20 segundos...\")\n",
    "\n",
    "await asyncio.sleep(20)  # Espera 20 segundos\n",
    "\n",
    "print(\"Deteniendo los agentes...\")\n",
    "await agente_receptor1.stop()\n",
    "await agente_receptor2.stop()\n",
    "await agente_receptor3.stop()\n",
    "\n",
    "await agente_propositor.stop()\n",
    "print(\"Agentes detenidos.\")"
   ]
  },
  {
   "cell_type": "markdown",
   "id": "e4006edb-5faa-47da-8856-1f7cbeb4a485",
   "metadata": {},
   "source": [
    "| Ejercicio 4 |\n",
    "|------------:|\n",
    "| Generaliza el ejemplo anterior para que el sistema esté compuesto por un agente que propone y `n` que responden. Para ello, generar una función `crear_ags_receptores` que reciba como argumento el número de agentes a crear, que deberá haberse solicitado al usuario y que cree dichos agentes y acabe devolviendo una lista formada por las instancias de dichos agentes que ha creado.|"
   ]
  },
  {
   "cell_type": "code",
   "execution_count": 24,
   "id": "2e6f7707-56aa-4dc9-abd8-f9a0eccbaf23",
   "metadata": {},
   "outputs": [],
   "source": [
    "import spade\n",
    "import asyncio\n",
    "import random\n",
    "\n",
    "class AgentePropositor(spade.agent.Agent):\n",
    "    async def setup(self):\n",
    "        print(f\"{self.name} iniciado\")\n",
    "        self.add_behaviour(self.ProposeBehaviour())\n",
    "\n",
    "    class ProposeBehaviour(spade.behaviour.OneShotBehaviour):\n",
    "        async def run(self):\n",
    "            # Obtener los JIDs de los agentes receptores a partir de las instancias creadas\n",
    "            # Se asume que cada agente receptor tiene su jid en el formato: \"receptorX_brivaro@gtirouter.dsic.upv.es\"\n",
    "            # Guardamos las respuestas en un diccionario\n",
    "            self.agent.responses = {}\n",
    "\n",
    "            # Enviar propuestas a cada receptor (recorremos la lista de receptores ya iniciada en self.agent.receptores)\n",
    "            for receptor in self.agent.receptores:\n",
    "                msg = spade.message.Message(\n",
    "                    to=str(receptor.jid),\n",
    "                    body=\"propuesta\",\n",
    "                    metadata={\"performative\": \"propose\"}\n",
    "                )\n",
    "                await self.send(msg)\n",
    "                print(f\"Propuesta enviada a {receptor.jid}\")\n",
    "\n",
    "            # Esperar y recoger respuestas de todos los receptores\n",
    "            for _ in range(len(self.agent.receptores)):\n",
    "                response = await self.receive(timeout=10)\n",
    "                if response:\n",
    "                    self.agent.responses[str(response.sender).split(\"@\")[0]] = response.body\n",
    "\n",
    "            print(\"Respuestas recibidas:\", self.agent.responses)\n",
    "\n",
    "            # Seleccionar aleatoriamente una respuesta y enviar la confirmación\n",
    "            if self.agent.responses:\n",
    "                selected_agent, selected_value = random.choice(list(self.agent.responses.items()))\n",
    "                response_msg = spade.message.Message(\n",
    "                    to=f\"{selected_agent}@gtirouter.dsic.upv.es\",\n",
    "                    body=f\"Tu valor {selected_value} fue seleccionado\",\n",
    "                    metadata={\"performative\": \"inform\"}\n",
    "                )\n",
    "                await self.send(response_msg)\n",
    "                print(f\"Enviada respuesta a {selected_agent}@gtirouter.dsic.upv.es sobre valor seleccionado: {selected_value}\")\n",
    "\n",
    "class AgenteReceptor(spade.agent.Agent):\n",
    "    async def setup(self):\n",
    "        print(f\"{self.name} iniciado\")\n",
    "        self.add_behaviour(self.ReceiveBehaviour())\n",
    "        self.add_behaviour(self.InformBehaviour())\n",
    "\n",
    "    class ReceiveBehaviour(spade.behaviour.CyclicBehaviour):\n",
    "        async def run(self):\n",
    "            msg = await self.receive(timeout=10)\n",
    "            if msg and msg.metadata.get(\"performative\") == \"propose\":\n",
    "                number = str(random.randint(1, 100))\n",
    "                reply = msg.make_reply()\n",
    "                reply.body = number\n",
    "                await self.send(reply)\n",
    "                print(f\"{self.agent.name} respondió con {number}\")\n",
    "\n",
    "    class InformBehaviour(spade.behaviour.CyclicBehaviour):\n",
    "        async def run(self):\n",
    "            msg = await self.receive(timeout=10)\n",
    "            if msg and msg.metadata.get(\"performative\") == \"inform\":\n",
    "                print(f\"{self.agent.name} recibió mensaje de selección: {msg.body}\")\n",
    "\n",
    "# Función para crear 'n' agentes receptores\n",
    "def crear_ags_receptores(n):\n",
    "    agentes = []\n",
    "    for i in range(1, n+1):\n",
    "        jid = f\"receptor{i}_brivaro@gtirouter.dsic.upv.es\"\n",
    "        agente = AgenteReceptor(jid, \"secret\")\n",
    "        agentes.append(agente)\n",
    "    return agentes\n"
   ]
  },
  {
   "cell_type": "code",
   "execution_count": 27,
   "id": "d9b8938f",
   "metadata": {},
   "outputs": [
    {
     "name": "stdout",
     "output_type": "stream",
     "text": [
      "receptor1_brivaro iniciado\n",
      "receptor2_brivaro iniciado\n",
      "receptor3_brivaro iniciado\n",
      "receptor4_brivaro iniciado\n",
      "receptor5_brivaro iniciado\n",
      "propositor7_brivaro iniciado\n",
      "Los agentes han comenzado. Se detendrán en 20 segundos...\n",
      "Propuesta enviada a receptor1_brivaro@gtirouter.dsic.upv.es\n",
      "Propuesta enviada a receptor2_brivaro@gtirouter.dsic.upv.es\n",
      "Propuesta enviada a receptor3_brivaro@gtirouter.dsic.upv.es\n",
      "Propuesta enviada a receptor4_brivaro@gtirouter.dsic.upv.es\n",
      "Propuesta enviada a receptor5_brivaro@gtirouter.dsic.upv.es\n",
      "receptor1_brivaro respondió con 30\n",
      "receptor2_brivaro respondió con 47\n",
      "receptor3_brivaro respondió con 55\n",
      "receptor4_brivaro respondió con 97\n",
      "receptor5_brivaro respondió con 6\n",
      "Respuestas recibidas: {'receptor1_brivaro': '30', 'receptor2_brivaro': '47', 'receptor3_brivaro': '55', 'receptor4_brivaro': '97', 'receptor5_brivaro': '6'}\n",
      "Enviada respuesta a receptor4_brivaro@gtirouter.dsic.upv.es sobre valor seleccionado: 97\n",
      "receptor4_brivaro recibió mensaje de selección: Tu valor 97 fue seleccionado\n",
      "Deteniendo los agentes...\n",
      "Agentes detenidos.\n"
     ]
    }
   ],
   "source": [
    "# Solicitar al usuario el número de agentes receptores\n",
    "n = int(input(\"Ingrese el número de agentes receptores a crear: \"))\n",
    "receptores = crear_ags_receptores(n)\n",
    "\n",
    "# Crear el agente propositor\n",
    "agente_propositor = AgentePropositor(\"propositor7_brivaro@gtirouter.dsic.upv.es\", \"secret\")\n",
    "\n",
    "# Iniciar todos los agentes receptores\n",
    "for agente in receptores:\n",
    "    await agente.start()\n",
    "\n",
    "# Asignar la lista de receptores al agente propositor para que conozca los JIDs\n",
    "agente_propositor.receptores = receptores\n",
    "await agente_propositor.start()\n",
    "\n",
    "print(\"Los agentes han comenzado. Se detendrán en 20 segundos...\")\n",
    "await asyncio.sleep(20)  # Espera 20 segundos\n",
    "\n",
    "print(\"Deteniendo los agentes...\")\n",
    "for agente in receptores:\n",
    "    await agente.stop()\n",
    "await agente_propositor.stop()\n",
    "print(\"Agentes detenidos.\")"
   ]
  },
  {
   "cell_type": "markdown",
   "id": "7a15adee-59c1-4ed6-a45d-ceb82502dd53",
   "metadata": {},
   "source": [
    "# [SPADE-BDI](https://pypi.org/project/spade-bdi/) "
   ]
  },
  {
   "cell_type": "markdown",
   "id": "39866af1-a2fb-4f30-84c3-28f2821a4b1c",
   "metadata": {},
   "source": [
    "Plugin de **SPADE** que permite incluir un comportamiento BDI con sintaxis **AgentSpeak**."
   ]
  },
  {
   "cell_type": "markdown",
   "id": "f3e2cb33-c6a9-43b3-a95d-45960a9d2da7",
   "metadata": {},
   "source": [
    "## Instalar SPADE BDI"
   ]
  },
  {
   "cell_type": "code",
   "execution_count": 28,
   "id": "aaeef2f4-7bfb-4da0-b8ea-2d46b01b8ec2",
   "metadata": {
    "scrolled": true
   },
   "outputs": [],
   "source": [
    "try:\n",
    "    import spade_bdi\n",
    "except:\n",
    "    !pip install spade_bdi"
   ]
  },
  {
   "cell_type": "markdown",
   "id": "e87f50e4-2c01-49ba-bf7e-b5d3e98983dd",
   "metadata": {},
   "source": [
    "### Ejemplo 1: un agente SPADE - BDI básico que carga un fichero ASL con un conocimiento en AgentSpeak - `basic_bdi.py`"
   ]
  },
  {
   "cell_type": "markdown",
   "id": "0dc03e87-a532-4a32-9163-fb821e6b1e64",
   "metadata": {},
   "source": [
    "Creamos el fichero `basic.asl`: "
   ]
  },
  {
   "cell_type": "code",
   "execution_count": 29,
   "id": "75eddc54-eabc-4272-b139-64adedd1f0ec",
   "metadata": {},
   "outputs": [],
   "source": [
    "with open('basic.asl', 'w') as fp:\n",
    "    fp.write('!start.\\n')\n",
    "    fp.write('+!start <-\\n')\n",
    "    fp.write('    +car(rojo);\\n')\n",
    "    fp.write('    +truck(azul).\\n')\n",
    "\n",
    "    fp.write('+car(Color)\\n') \n",
    "    fp.write('    <- .print(\"El carro es \",Color).!start.\\n')"
   ]
  },
  {
   "cell_type": "code",
   "execution_count": 30,
   "id": "72f51a66-0256-4f1c-afd0-a7b43212dbe8",
   "metadata": {},
   "outputs": [
    {
     "name": "stdout",
     "output_type": "stream",
     "text": [
      "!start.\n",
      "+!start <-\n",
      "    +car(rojo);\n",
      "    +truck(azul).\n",
      "+car(Color)\n",
      "    <- .print(\"El carro es \",Color).!start.\n"
     ]
    }
   ],
   "source": [
    "!more basic.asl"
   ]
  },
  {
   "cell_type": "markdown",
   "id": "46c26ca8-3730-483b-88c8-d9ae4c0a8848",
   "metadata": {},
   "source": [
    "Creamos el agente y lo ejecutamos (cargando `basic.asl` como conocimiento deliberativo del agente):"
   ]
  },
  {
   "cell_type": "code",
   "execution_count": 31,
   "id": "556b211a-cea3-447c-a432-76259403af57",
   "metadata": {},
   "outputs": [
    {
     "name": "stdout",
     "output_type": "stream",
     "text": [
      "basicagent_bdi_brivaro@gtirouter.dsic.upv.es El carro es  rojo\n",
      "basicagent_bdi_brivaro@gtirouter.dsic.upv.es El carro es  rojo\n",
      "Comenzando a interactuar con el comportamiento BDI del agente ... \n",
      "car(rojo)\n",
      "truck(azul)\n",
      "GETTING FIRST CAR BELIEF\n",
      "Primera Creencia de tipo car:  car(rojo)\n",
      "car(rojo)\n",
      "truck(azul)\n",
      "car(rojo)\n",
      "truck(azul)\n",
      "['car(rojo)', 'truck(azul)']\n"
     ]
    }
   ],
   "source": [
    "import asyncio\n",
    "\n",
    "import time\n",
    "\n",
    "import spade\n",
    "\n",
    "from spade_bdi.bdi import BDIAgent\n",
    "\n",
    "a = BDIAgent(\"BasicAgent_BDI_brivaro@gtirouter.dsic.upv.es\", \"SPADE\", \"basic.asl\")\n",
    "\n",
    "await a.start()\n",
    "\n",
    "await asyncio.sleep(1)\n",
    "\n",
    "print(\"Comenzando a interactuar con el comportamiento BDI del agente ... \");\n",
    "a.bdi.set_belief(\"car\", \"azul\", \"big\")\n",
    "a.bdi.print_beliefs()\n",
    "print(\"GETTING FIRST CAR BELIEF\")\n",
    "print(\"Primera Creencia de tipo car: \", a.bdi.get_belief(\"car\"))\n",
    "a.bdi.print_beliefs()\n",
    "a.bdi.remove_belief(\"car\", 'azul', \"big\")\n",
    "a.bdi.print_beliefs()\n",
    "print(a.bdi.get_beliefs())\n",
    "a.bdi.set_belief(\"car\", 'amarillo')\n",
    "\n",
    "time.sleep(1)\n",
    "\n",
    "await a.stop()   "
   ]
  },
  {
   "cell_type": "markdown",
   "id": "d548c951-ca2a-44c6-abad-1ffa050ff6ea",
   "metadata": {},
   "source": [
    "Comprobad la diferencia en la ejecución con el cambio que se muestra a continuación:"
   ]
  },
  {
   "cell_type": "code",
   "execution_count": 32,
   "id": "2262b8c4-94db-4580-8570-1e30ee0ead07",
   "metadata": {},
   "outputs": [
    {
     "name": "stdout",
     "output_type": "stream",
     "text": [
      "basicagent_bdi_brivaro@gtirouter.dsic.upv.es El carro es  rojo\n",
      "basicagent_bdi_brivaro@gtirouter.dsic.upv.es El carro es  rojo\n",
      "Comenzando a interactuar con el comportamiento BDI del agente ... \n",
      "car(rojo)\n",
      "truck(azul)\n",
      "car(azul, big)\n",
      "GETTING FIRST CAR BELIEF\n",
      "Primera Creencia de tipo car:  car(rojo)\n",
      "car(rojo)\n",
      "truck(azul)\n",
      "car(azul, big)\n",
      "car(rojo)\n",
      "truck(azul)\n",
      "car(azul, big)\n",
      "['car(rojo)', 'truck(azul)', 'car(azul, big)']\n"
     ]
    }
   ],
   "source": [
    "import asyncio\n",
    "\n",
    "import time\n",
    "\n",
    "import spade\n",
    "\n",
    "from spade_bdi.bdi import BDIAgent\n",
    "\n",
    "a = BDIAgent(\"BasicAgent_BDI_brivaro@gtirouter.dsic.upv.es\", \"SPADE\", \"basic.asl\")\n",
    "\n",
    "await a.start()\n",
    "\n",
    "await asyncio.sleep(1)\n",
    "\n",
    "print(\"Comenzando a interactuar con el comportamiento BDI del agente ... \");\n",
    "a.bdi.set_belief(\"car\", \"azul\", \"big\")\n",
    "\n",
    "await asyncio.sleep(1)    ### CAMBIO: Dejamos un poco de tiempo para actualizar el comportamiento BDI\n",
    "\n",
    "a.bdi.print_beliefs()\n",
    "print(\"GETTING FIRST CAR BELIEF\")\n",
    "print(\"Primera Creencia de tipo car: \", a.bdi.get_belief(\"car\"))\n",
    "a.bdi.print_beliefs()\n",
    "a.bdi.remove_belief(\"car\", 'azul', \"big\")\n",
    "a.bdi.print_beliefs()\n",
    "print(a.bdi.get_beliefs())\n",
    "a.bdi.set_belief(\"car\", 'amarillo')\n",
    "\n",
    "time.sleep(1)\n",
    "\n",
    "await a.stop()   "
   ]
  },
  {
   "cell_type": "code",
   "execution_count": 33,
   "id": "305e680d",
   "metadata": {},
   "outputs": [
    {
     "name": "stdout",
     "output_type": "stream",
     "text": [
      "basicagent_bdi_brivaro@gtirouter.dsic.upv.es El carro es  rojo\n",
      "basicagent_bdi_brivaro@gtirouter.dsic.upv.es El carro es  rojo\n",
      "Comenzando a interactuar con el comportamiento BDI del agente ... \n",
      "car(rojo)\n",
      "truck(azul)\n",
      "car(azul, big)\n",
      "GETTING FIRST CAR BELIEF\n",
      "Primera Creencia de tipo car:  car(rojo)\n",
      "car(rojo)\n",
      "truck(azul)\n",
      "car(azul, big)\n",
      "car(rojo)\n",
      "truck(azul)\n",
      "car(azul, big)\n",
      "['car(rojo)', 'truck(azul)', 'car(azul, big)']\n"
     ]
    }
   ],
   "source": [
    "a = BDIAgent(\"BasicAgent_BDI_brivaro@gtirouter.dsic.upv.es\", \"SPADE\", \"basic.asl\")\n",
    "\n",
    "await a.start()\n",
    "\n",
    "await asyncio.sleep(1)\n",
    "\n",
    "print(\"Comenzando a interactuar con el comportamiento BDI del agente ... \");\n",
    "a.bdi.set_belief(\"car\", \"azul\", \"big\")\n",
    "\n",
    "await asyncio.sleep(2)    ### CAMBIO: Dejamos un poco de tiempo para actualizar el comportamiento BDI\n",
    "\n",
    "a.bdi.print_beliefs()\n",
    "\n",
    "await asyncio.sleep(2) \n",
    "\n",
    "print(\"GETTING FIRST CAR BELIEF\")\n",
    "print(\"Primera Creencia de tipo car: \", a.bdi.get_belief(\"car\"))\n",
    "\n",
    "await asyncio.sleep(2) \n",
    "\n",
    "a.bdi.print_beliefs()\n",
    "a.bdi.remove_belief(\"car\", 'azul', \"big\")\n",
    "a.bdi.print_beliefs()\n",
    "print(a.bdi.get_beliefs())\n",
    "a.bdi.set_belief(\"car\", 'amarillo')\n",
    "\n",
    "time.sleep(1)\n",
    "\n",
    "await a.stop()   "
   ]
  },
  {
   "cell_type": "markdown",
   "id": "82899808-4ed4-47c0-ae2c-ead541f7c59d",
   "metadata": {},
   "source": [
    "### Ejemplo 2: Creación de acciones internas en un agente SPADE - BDI - `actions.py`"
   ]
  },
  {
   "cell_type": "markdown",
   "id": "a8ab755f-f7d0-468a-a83d-ea19d32bae90",
   "metadata": {},
   "source": [
    "Creamos el fichero `actions.asl`: "
   ]
  },
  {
   "cell_type": "code",
   "execution_count": 34,
   "id": "9789c89b-1551-45f2-a141-513809d56261",
   "metadata": {},
   "outputs": [],
   "source": [
    "with open('actions.asl', 'w') as fp:\n",
    "    fp.write('!start.\\n')\n",
    "    fp.write('+!start <-\\n')\n",
    "    fp.write('    .my_function(4, R);\\n')\n",
    "    fp.write('    .my_action(R).\\n')"
   ]
  },
  {
   "cell_type": "code",
   "execution_count": 35,
   "id": "dd533864-ad7a-41d8-bb2f-3ba2baac11e0",
   "metadata": {},
   "outputs": [
    {
     "name": "stdout",
     "output_type": "stream",
     "text": [
      "!start.\n",
      "+!start <-\n",
      "    .my_function(4, R);\n",
      "    .my_action(R).\n"
     ]
    }
   ],
   "source": [
    "!more actions.asl"
   ]
  },
  {
   "cell_type": "code",
   "execution_count": 36,
   "id": "cf64422d-ea05-4023-8341-f7b3626223c4",
   "metadata": {},
   "outputs": [],
   "source": [
    "import asyncio\n",
    "import argparse\n",
    "\n",
    "import agentspeak\n",
    "\n",
    "import spade\n",
    "\n",
    "from spade_bdi.bdi import BDIAgent\n",
    "\n",
    "\n",
    "class MyCustomBDIAgent(BDIAgent):\n",
    "    def add_custom_actions(self, actions):\n",
    "        \n",
    "        @actions.add_function(\".my_function\", (int,))\n",
    "        def _my_function(x):\n",
    "            return x * x\n",
    "\n",
    "        @actions.add(\".my_action\", 1)\n",
    "        def _my_action(agent, term, intention):\n",
    "            arg = agentspeak.grounded(term.args[0], intention.scope)\n",
    "            print(arg)\n",
    "            yield"
   ]
  },
  {
   "cell_type": "code",
   "execution_count": 37,
   "id": "bd7d20a8-1599-45a7-8273-6bf2641877fd",
   "metadata": {},
   "outputs": [
    {
     "name": "stdout",
     "output_type": "stream",
     "text": [
      "16\n"
     ]
    }
   ],
   "source": [
    "a = MyCustomBDIAgent(\"bdi_agent_actions_brivaro@gtirouter.dsic.upv.es\", \"bdipassword\", \"actions.asl\")\n",
    "\n",
    "await a.start()\n",
    "\n",
    "await asyncio.sleep(2)\n",
    "\n",
    "await a.stop()"
   ]
  },
  {
   "cell_type": "markdown",
   "id": "04d25c37-8e35-474c-b5ea-54752845d241",
   "metadata": {},
   "source": [
    "### Ejemplo 3: Creación de un agente con un comportamiento BDI, que reciba como parámetro el nombre del fichero con el código BDI (fichero `.asl`) y el tiempo de ejecución de dicho agente. - `asl_launcher.py`"
   ]
  },
  {
   "cell_type": "code",
   "execution_count": 38,
   "id": "cf06fd4f-7ed1-4d6a-a9b2-8ea4ad18cd99",
   "metadata": {},
   "outputs": [],
   "source": [
    "import asyncio\n",
    "import argparse\n",
    "\n",
    "import spade\n",
    "\n",
    "from spade_bdi.bdi import BDIAgent\n",
    "\n",
    "async def create_par_bdi_agent( sAsl_name, nTime ):\n",
    "\n",
    "\ta = MyCustomBDIAgent(\"Agent_par_BDI_brivaro@gtirouter.dsic.upv.es\", \"bdi_agent\", sAsl_name)\n",
    "\n",
    "\tawait a.start()\n",
    "\n",
    "\t#version web\n",
    "\ta.web.start(hostname=\"127.0.0.1\",port=\"10000\")\n",
    "\n",
    "\tawait asyncio.sleep(nTime)\n",
    "\n",
    "\tawait a.stop()\n"
   ]
  },
  {
   "cell_type": "markdown",
   "id": "bc17cc27-59ee-46d3-b9e8-26b29f588cf6",
   "metadata": {},
   "source": [
    "Creamos el fichero `actions.asl`: "
   ]
  },
  {
   "cell_type": "code",
   "execution_count": 39,
   "id": "dafa7cfd-76d8-4f6f-9c19-f498cb16c0ee",
   "metadata": {},
   "outputs": [],
   "source": [
    "with open('actions.asl', 'w') as fp:\n",
    "    fp.write('!start.\\n')\n",
    "    fp.write('+!start <-\\n')\n",
    "    fp.write('    .my_function(4, R);\\n')\n",
    "    fp.write('    .my_action(R).\\n')"
   ]
  },
  {
   "cell_type": "code",
   "execution_count": 40,
   "id": "ffb6e5a5-5a3b-4d72-8c03-de4da87af571",
   "metadata": {},
   "outputs": [
    {
     "name": "stdout",
     "output_type": "stream",
     "text": [
      "!start.\n",
      "+!start <-\n",
      "    .my_function(4, R);\n",
      "    .my_action(R).\n"
     ]
    }
   ],
   "source": [
    "!more actions.asl"
   ]
  },
  {
   "cell_type": "code",
   "execution_count": 41,
   "id": "8c7b864b-117e-4ff0-ae00-49eda85af022",
   "metadata": {},
   "outputs": [
    {
     "name": "stdout",
     "output_type": "stream",
     "text": [
      "16\n"
     ]
    }
   ],
   "source": [
    "await create_par_bdi_agent( \"actions.asl\", 2 )"
   ]
  },
  {
   "cell_type": "markdown",
   "id": "018bc9a1-be58-42e6-87dc-740c129c0b34",
   "metadata": {},
   "source": [
    "Podéis conectar a la [interfaz web del agente](http://127.0.0.1:10000/spade). "
   ]
  },
  {
   "cell_type": "markdown",
   "id": "75f1734f-9a25-4ce2-9d90-15fe8cef6d92",
   "metadata": {},
   "source": [
    "| Ejercicio 5 |\n",
    "|------------:|\n",
    "| Usando la función `create_par_bdi_agent()`, crea un asl y ejecútalo aquí para poder calcular un factorial de cualquier número dado por el usuario.|"
   ]
  },
  {
   "cell_type": "code",
   "execution_count": 42,
   "id": "72dee82c-b76f-42fc-ad23-852712064ace",
   "metadata": {},
   "outputs": [
    {
     "name": "stdout",
     "output_type": "stream",
     "text": [
      "El factorial de 8.0 es 40320\n"
     ]
    }
   ],
   "source": [
    "import asyncio\n",
    "import agentspeak\n",
    "import spade\n",
    "from spade_bdi.bdi import BDIAgent\n",
    "\n",
    "# Función auxiliar para calcular el factorial\n",
    "def factorial(n):\n",
    "    if n == 0:\n",
    "        return 1\n",
    "    return n * factorial(n-1)\n",
    "\n",
    "# Clase personalizada que registra las acciones custom necesarias\n",
    "class FactorialBDIAgent(BDIAgent):\n",
    "    def add_custom_actions(self, actions):\n",
    "        @actions.add_function(\".fact\", (int,))\n",
    "        def _fact(n):\n",
    "            return factorial(n)\n",
    "        \n",
    "        @actions.add(\".print_result\", 2)\n",
    "        def _print_result(agent, term, intention):\n",
    "            num = agentspeak.grounded(term.args[0], intention.scope)\n",
    "            res = agentspeak.grounded(term.args[1], intention.scope)\n",
    "            print(f\"El factorial de {num} es {res}\")\n",
    "            yield\n",
    "\n",
    "num_str = input(\"Ingresa el número para calcular el factorial: \")\n",
    "num = int(num_str)\n",
    "with open(\"factorial.asl\", \"w\") as fp:\n",
    "    fp.write(\"!start.\\n\")\n",
    "    fp.write(f\"+!start <- .fact({num}, R);\\n\")\n",
    "    fp.write(f\"    .print_result({num}, R).\\n\")\n",
    "\n",
    "async def create_par_bdi_agent(asl_file, duration):\n",
    "    a = FactorialBDIAgent(\"Agent_factorial_brivaro@gtirouter.dsic.upv.es\", \"bdi_agent\", asl_file)\n",
    "    await a.start()\n",
    "    a.web.start(hostname=\"127.0.0.1\", port=\"10000\")\n",
    "    await asyncio.sleep(duration)\n",
    "    await a.stop()\n",
    "\n",
    "await create_par_bdi_agent(\"factorial.asl\", 10)\n"
   ]
  },
  {
   "cell_type": "markdown",
   "id": "89516550",
   "metadata": {},
   "source": [
    "Nos conectamos y lo matamos en [interfaz web del agente](http://127.0.0.1:10000/spade), pero a los 10 segundos se irá a descansar ;)."
   ]
  },
  {
   "cell_type": "markdown",
   "id": "784924dd",
   "metadata": {},
   "source": [
    "# BOWLDI"
   ]
  },
  {
   "cell_type": "markdown",
   "id": "818ef95f",
   "metadata": {},
   "source": [
    "The **BOWLDI** idea is to combine ontologies (OWL) and BDI agents. In particular, it is envisioned to work with the **SPADE** platform, i.e. the BDI implementation used by SPADE, which is based on the AgentSpeak language. Therefore, BOWLDI allows to use OWL ontologies in the BDI agents implemented in SPADE. This is achieved by translating OWL/RDF files into AgentSpeak code and vice versa.\n",
    "\n",
    "The conversion is performed within the `BOWLDIConverter` Python class that uses `owlready2` library to read ontology files or store information into them. Inversely, the said class can also convert AgentSpeak code into OWL/RDF files. The conversion is based on the mapping of OWL classes and properties to AgentSpeak plans and beliefs.\n",
    "\n",
    "The class is envisioned as a modular construct that supports various functionalities, each of which may be used on their own as well. The main functionalities are:\n",
    "- **Ontology to AgentSpeak conversion**: The conversion of OWL ontologies into AgentSpeak code.\n",
    "- **AgentSpeak to Ontology conversion**: The conversion of AgentSpeak code into OWL ontologies.\n",
    "\n",
    "Using the `BOWLDIConverter` class can be as easy as creating an instance of the class and calling the desired method."
   ]
  },
  {
   "cell_type": "markdown",
   "id": "d6c6608c",
   "metadata": {},
   "source": [
    "The implementation of the `BOWLDIConverter` class is publicly available on GitHub [repository](https://github.com/AILab-FOI/MAGO/blob/main/Extra/BOWLDI/bowldi.py).\n",
    "\n",
    "You can download it e.g. by using wget."
   ]
  },
  {
   "cell_type": "code",
   "execution_count": 1,
   "id": "a188c12b",
   "metadata": {},
   "outputs": [
    {
     "name": "stdout",
     "output_type": "stream",
     "text": [
      "Requirement already satisfied: wget in d:\\anaconda\\envs\\sin\\lib\\site-packages (3.2)\n"
     ]
    }
   ],
   "source": [
    "!pip install wget"
   ]
  },
  {
   "cell_type": "code",
   "execution_count": 2,
   "id": "986e1308-1c48-47b2-94ff-c69fa65e0cf6",
   "metadata": {},
   "outputs": [
    {
     "name": "stderr",
     "output_type": "stream",
     "text": [
      "\"wget\" no se reconoce como un comando interno o externo,\n",
      "programa o archivo por lotes ejecutable.\n"
     ]
    }
   ],
   "source": [
    "!wget https://raw.githubusercontent.com/AILab-FOI/MAGO/main/Extra/BOWLDI/bowldi.py"
   ]
  },
  {
   "cell_type": "markdown",
   "id": "da5d6d89",
   "metadata": {},
   "source": [
    "The only library necessary for `BOWLDIConverter` to work is `owlready2`. You can install it by running the following command:"
   ]
  },
  {
   "cell_type": "code",
   "execution_count": 3,
   "id": "faa893c1",
   "metadata": {},
   "outputs": [],
   "source": [
    "try:\n",
    "    import owlready2\n",
    "except:\n",
    "    !pip install owlready2"
   ]
  },
  {
   "cell_type": "markdown",
   "id": "484a521a",
   "metadata": {},
   "source": [
    "Otherwise, you can create a new Python environment with the necessary libraries. One possible solution is to create a Conda environment using the following environment definition:\n",
    "\n",
    "```yaml\n",
    "name: bowldi\n",
    "\n",
    "dependencies:\n",
    "  - python=3.10\n",
    "  - conda-forge::owlready2\n",
    "  - conda-forge::pexpect\n",
    "  - pip\n",
    "  - pip:\n",
    "    - spade\n",
    "    - spade_bdi\n",
    "\n",
    "# conda env create -f env.yml\n",
    "# conda env update -f env.yml --prune\n",
    "```\n",
    "\n",
    "This file is also available publicly at GitHub [repository](https://github.com/AILab-FOI/MAGO/blob/main/Documents/250320%20Class/env.yml), and can be downloaded using wget as well:\n",
    "\n",
    "```bash\n",
    "wget https://raw.githubusercontent.com/AILab-FOI/MAGO/main/Documents/250320%20Class/env.yml\n",
    "```"
   ]
  },
  {
   "cell_type": "markdown",
   "id": "5991028a-8bd9-4ecd-9ad6-37f8fc13f610",
   "metadata": {},
   "source": [
    "## Example 1: Converting AgentSpeak to OWL\n",
    "\n",
    "`BOWLDIConverter` can take a string input of AgentSpeak code and convert it to an ontology file. The following is a simple example containing: a couple of beliefs. These can be mapped to:\n",
    "- two ontology concepts (lines 5--7),\n",
    "- one individual (line 10),\n",
    "- two properties (lines 13 and 16)."
   ]
  },
  {
   "cell_type": "code",
   "execution_count": 4,
   "id": "2378aabc",
   "metadata": {},
   "outputs": [
    {
     "name": "stdout",
     "output_type": "stream",
     "text": [
      "Conversion complete.\n",
      "File already exists. Overwriting.\n",
      "Output saved to w:\\SPADE\\output.owl\n"
     ]
    },
    {
     "data": {
      "text/plain": [
       "{'status': 'success',\n",
       " 'message': 'Conversion complete.',\n",
       " 'file': 'w:/SPADE/output.owl'}"
      ]
     },
     "execution_count": 4,
     "metadata": {},
     "output_type": "execute_result"
    }
   ],
   "source": [
    "from bowldi import BOWLDIConverter\n",
    "\n",
    "input_data = \"\"\"\n",
    "// Concepts and Hierarchies\n",
    "concept(person).\n",
    "concept(wizard).\n",
    "is_a(wizard, person).\n",
    "\n",
    "// Individual\n",
    "individual(gandalf, wizard).\n",
    "\n",
    "// Object Property\n",
    "object_property(person, is_friend_with, person).\n",
    "\n",
    "// Data Property\n",
    "data_property(person, has name, string).\"\"\"\n",
    "\n",
    "converter = BOWLDIConverter(\n",
    "    input_data=input_data,\n",
    ")\n",
    "\n",
    "converter.get_response()"
   ]
  },
  {
   "cell_type": "code",
   "execution_count": 5,
   "id": "7e040831-c38a-4622-bff1-7d80fa225041",
   "metadata": {},
   "outputs": [
    {
     "name": "stdout",
     "output_type": "stream",
     "text": [
      "<?xml version=\"1.0\"?>\n",
      "<rdf:RDF xmlns:rdf=\"http://www.w3.org/1999/02/22-rdf-syntax-ns#\"\n",
      "         xmlns:xsd=\"http://www.w3.org/2001/XMLSchema#\"\n",
      "         xmlns:rdfs=\"http://www.w3.org/2000/01/rdf-schema#\"\n",
      "         xmlns:owl=\"http://www.w3.org/2002/07/owl#\"\n",
      "         xml:base=\"file:///w:/SPADE/output.owl\"\n",
      "         xmlns=\"file:///w:/SPADE/output.owl#\">\n",
      "\n",
      "<owl:Ontology rdf:about=\"file:///w:/SPADE/output.owl\"/>\n",
      "\n",
      "<owl:ObjectProperty rdf:about=\"#is_friend_with\">\n",
      "  <rdfs:domain rdf:resource=\"#person\"/>\n",
      "  <rdfs:range rdf:resource=\"#person\"/>\n",
      "  <rdfs:label xml:lang=\"en-gb\">is friend with</rdfs:label>\n",
      "  <rdfs:isDefinedBy rdf:datatype=\"http://www.w3.org/2001/XMLSchema#string\">self</rdfs:isDefinedBy>\n",
      "</owl:ObjectProperty>\n",
      "\n",
      "<owl:DatatypeProperty rdf:about=\"#has_name\">\n",
      "  <rdfs:domain rdf:resource=\"#person\"/>\n",
      "  <rdfs:range rdf:resource=\"http://www.w3.org/2001/XMLSchema#string\"/>\n",
      "  <rdfs:label xml:lang=\"en-gb\">has name</rdfs:label>\n",
      "  <rdfs:isDefinedBy rdf:datatype=\"http://www.w3.org/2001/XMLSchema#string\">self</rdfs:isDefinedBy>\n",
      "</owl:DatatypeProperty>\n",
      "\n",
      "<owl:Class rdf:about=\"#person\">\n",
      "  <rdfs:subClassOf rdf:resource=\"http://www.w3.org/2002/07/owl#Thing\"/>\n",
      "  <rdfs:label xml:lang=\"en-gb\">person</rdfs:label>\n",
      "  <rdfs:isDefinedBy rdf:datatype=\"http://www.w3.org/2001/XMLSchema#string\">self</rdfs:isDefinedBy>\n",
      "</owl:Class>\n",
      "\n",
      "<owl:Class rdf:about=\"#wizard\">\n",
      "  <rdfs:subClassOf rdf:resource=\"#person\"/>\n",
      "  <rdfs:label xml:lang=\"en-gb\">wizard</rdfs:label>\n",
      "  <rdfs:isDefinedBy rdf:datatype=\"http://www.w3.org/2001/XMLSchema#string\">self</rdfs:isDefinedBy>\n",
      "</owl:Class>\n",
      "\n",
      "<owl:NamedIndividual rdf:about=\"#gandalf\">\n",
      "  <rdf:type rdf:resource=\"#wizard\"/>\n",
      "  <rdfs:label xml:lang=\"en-gb\">gandalf</rdfs:label>\n",
      "  <rdfs:isDefinedBy rdf:datatype=\"http://www.w3.org/2001/XMLSchema#string\">self</rdfs:isDefinedBy>\n",
      "</owl:NamedIndividual>\n",
      "\n",
      "\n",
      "</rdf:RDF>\n"
     ]
    }
   ],
   "source": [
    "!more output.owl"
   ]
  },
  {
   "cell_type": "markdown",
   "id": "844b0090",
   "metadata": {},
   "source": [
    "The response received on line 22 should read:\n",
    "\n",
    "```json\n",
    "{\n",
    "  \"status\": \"success\",\n",
    "  \"message\": \"Conversion complete.\",\n",
    "  \"file\": \"<path to file>/output.owl\"\n",
    "}\n",
    "```"
   ]
  },
  {
   "cell_type": "markdown",
   "id": "043e6d65",
   "metadata": {},
   "source": [
    "Converting AgentSpeak to an ontology file will always yield a file output, i.e. will always write the output to a file. The generated file `output.owl` should have the following content, based on the input AgentSpeak code:\n",
    "\n",
    "```xml\n",
    "<?xml version=\"1.0\"?>\n",
    "<rdf:RDF xmlns:rdf=\"http://www.w3.org/1999/02/22-rdf-syntax-ns#\"\n",
    "    xmlns:xsd=\"http://www.w3.org/2001/XMLSchema#\"\n",
    "    xmlns:rdfs=\"http://www.w3.org/2000/01/rdf-schema#\"\n",
    "    xmlns:owl=\"http://www.w3.org/2002/07/owl#\" xml:base=\"file://<path to file>/output.owl\"\n",
    "    xmlns=\"file://<path to file>/output.owl#\">\n",
    "\n",
    "    <owl:Ontology rdf:about=\"file://<path to file>/output.owl\"/>\n",
    "\n",
    "    <owl:ObjectProperty rdf:about=\"#is_friend_with\">\n",
    "        <rdfs:domain rdf:resource=\"#person\"/>\n",
    "        <rdfs:range rdf:resource=\"#person\"/>\n",
    "        <rdfs:label xml:lang=\"en-gb\">is friend with</rdfs:label>\n",
    "        <rdfs:isDefinedBy rdf:datatype=\"http://www.w3.org/2001/XMLSchema#string\">self</rdfs:isDefinedBy>\n",
    "    </owl:ObjectProperty>\n",
    "\n",
    "    <owl:DatatypeProperty rdf:about=\"#has_name\">\n",
    "        <rdfs:domain rdf:resource=\"#person\"/>\n",
    "        <rdfs:range rdf:resource=\"http://www.w3.org/2001/XMLSchema#string\"/>\n",
    "        <rdfs:label xml:lang=\"en-gb\">has name</rdfs:label>\n",
    "        <rdfs:isDefinedBy rdf:datatype=\"http://www.w3.org/2001/XMLSchema#string\">self</rdfs:isDefinedBy>\n",
    "    </owl:DatatypeProperty>\n",
    "\n",
    "    <owl:Class rdf:about=\"#person\">\n",
    "        <rdfs:subClassOf rdf:resource=\"http://www.w3.org/2002/07/owl#Thing\"/>\n",
    "        <rdfs:label xml:lang=\"en-gb\">person</rdfs:label>\n",
    "        <rdfs:isDefinedBy rdf:datatype=\"http://www.w3.org/2001/XMLSchema#string\">self</rdfs:isDefinedBy>\n",
    "    </owl:Class>\n",
    "\n",
    "    <owl:Class rdf:about=\"#wizard\">\n",
    "        <rdfs:subClassOf rdf:resource=\"#person\"/>\n",
    "        <rdfs:label xml:lang=\"en-gb\">wizard</rdfs:label>\n",
    "        <rdfs:isDefinedBy rdf:datatype=\"http://www.w3.org/2001/XMLSchema#string\">self</rdfs:isDefinedBy>\n",
    "    </owl:Class>\n",
    "\n",
    "    <owl:NamedIndividual rdf:about=\"#gandalf\">\n",
    "        <rdf:type rdf:resource=\"#wizard\"/>\n",
    "        <rdfs:label xml:lang=\"en-gb\">gandalf</rdfs:label>\n",
    "        <rdfs:isDefinedBy rdf:datatype=\"http://www.w3.org/2001/XMLSchema#string\">self</rdfs:isDefinedBy>\n",
    "    </owl:NamedIndividual>\n",
    "\n",
    "</rdf:RDF>\n",
    "```"
   ]
  },
  {
   "cell_type": "markdown",
   "id": "af62656c",
   "metadata": {},
   "source": [
    "## Example 2: Converting OWL to AgentSpeak\n",
    "\n",
    "`BOWLDIConverter` class can take an ontology file and convert it to AgentSpeak code. The following is a simple example of reading the ontology created in the previous example and converting it to AgentSpeak code."
   ]
  },
  {
   "cell_type": "code",
   "execution_count": 6,
   "id": "63bd939c",
   "metadata": {},
   "outputs": [
    {
     "name": "stdout",
     "output_type": "stream",
     "text": [
      "Conversion complete. Output saved to w:\\SPADE\\example_output.asl\n",
      "\n"
     ]
    }
   ],
   "source": [
    "from bowldi import BOWLDIConverter\n",
    "\n",
    "converter = BOWLDIConverter(\n",
    "    input_data_path=\"output.owl\",\n",
    "    output_data_path=\"example_output.asl\",\n",
    ")\n",
    "\n",
    "if converter.get_response().get(\"status\") == \"success\":\n",
    "    print(converter.agentspeak_output)"
   ]
  },
  {
   "cell_type": "code",
   "execution_count": 7,
   "id": "52692c70-9f86-4f72-ace6-38ecbbeeee48",
   "metadata": {},
   "outputs": [],
   "source": [
    "!more example_output.asl"
   ]
  },
  {
   "cell_type": "markdown",
   "id": "c5a0aca8",
   "metadata": {},
   "source": [
    "The above code will take the ontology stored in the file `output.owl` and convert it to AgentSpeak code. The output is saved in the provided `output_data_path` file. In addition to receiving the output saved into the given file, the output can also be retrieved as a string using the `agentspeak_output` attribute.\n",
    "\n",
    "The rendered AgentSpeak code should look as follows, based on the expected input:\n",
    "\n",
    "```prolog\n",
    "concept(person)[source(['self'])].\n",
    "concept(wizard)[source(['self'])].\n",
    "is_a(wizard, person)[source(['self'])].\n",
    "object_property(person, is_friend_with, person)[source(['self'])].\n",
    "data_property(person, has_name, str)[source(['self'])].\n",
    "individual(gandalf, wizard)[source(['self'])].\n",
    "```"
   ]
  },
  {
   "cell_type": "markdown",
   "id": "fdb002bc",
   "metadata": {},
   "source": [
    "This last output features a list of beliefs, but this time each of those is given a `source` attribute. This attribute should be used to tell the agent where the particular piece of knowledge comes from, i.e. from which agent or knowledge source (e.g. an ontology) it originates. In this instance, all the knowledge comes from the agent itself, hence the `self` value."
   ]
  },
  {
   "cell_type": "markdown",
   "id": "34151df4",
   "metadata": {},
   "source": [
    "## Example 3: Converting OWL to AgentSpeak with an external source\n",
    "\n",
    "A simple ontology has been prepared, featuring a couple of concepts and properties, related to the domain of the Lord of the Rings novel. The ontology is available publicly on GitHub [repository](https://github.com/AILab-FOI/MAGO/blob/main/Documents/250320%20Class/lotr_example.owl), and it can be visualized using WebOWL in this [link](https://service.tib.eu/webvowl/#iri=https://raw.githubusercontent.com/AILab-FOI/MAGO/refs/heads/main/Documents/250320%20Class/onto_example.rdf#)\n",
    "\n",
    "The linked ontology contains the following information:\n",
    "\n",
    "**Classes**\n",
    "\n",
    "- `person`\n",
    "- `wizard` (subclass of `person`)\n",
    "- `elf` (subclass of `person`)\n",
    "- `human` (subclass of `person`)\n",
    "- `dwarf` (subclass of `person`)\n",
    "- `hobbit` (subclass of `person`)\n",
    "- `kingdom`\n",
    "- `ring_of_power`\n",
    "\n",
    "**Object Properties**\n",
    "\n",
    "- `has_king` (domain: `kingdom`, range: `person`)\n",
    "- `is_friend_with` (domain: `person`, range: `person`)\n",
    "- `is_in_team_with` (domain: `person`, range: `person`)\n",
    "- `has_ring` (domain: `person`, range: `ring_of_power`)\n",
    "- `fights_against` (domain: `person`, range: `person`)\n",
    "\n",
    "**Datatype Properties**\n",
    "\n",
    "- `has_name` (domain: `person`, range: `string`)\n",
    "- `description` (domain: `ring_of_power`, range: `string`)"
   ]
  },
  {
   "cell_type": "markdown",
   "id": "0234259e",
   "metadata": {},
   "source": [
    "Importing the above ontology, let us prepare another ontology that uses the concepts of the imported ontology to construct additional data. The developed example ontology that imports the `lotr_ontology.owl` is available [online](https://github.com/AILab-FOI/MAGO/blob/main/Documents/250320%20Class/onto_example.rdf) as well. It may be downloaded e.g. by using `wget`."
   ]
  },
  {
   "cell_type": "code",
   "execution_count": 52,
   "id": "1e8bd796",
   "metadata": {},
   "outputs": [
    {
     "name": "stderr",
     "output_type": "stream",
     "text": [
      "\"wget\" no se reconoce como un comando interno o externo,\n",
      "programa o archivo por lotes ejecutable.\n"
     ]
    }
   ],
   "source": [
    "!wget https://raw.githubusercontent.com/AILab-FOI/MAGO/refs/heads/main/Documents/250320%20Class/onto_example.rdf"
   ]
  },
  {
   "cell_type": "markdown",
   "id": "02456c59",
   "metadata": {},
   "source": [
    "This example ontology extends the `lotr_ontology.owl` and defines individuals of the classes stored therein.\n",
    "\n",
    "The three defined individuals are described as follows, using the RDF/XML syntax generated by Protégé:\n",
    "\n",
    "```xml\n",
    "    <!-- <path to onto>/onto_example.rdf#OWLNamedIndividual_443b4123_3a46_49a2_b8c2_29ced3899779 -->\n",
    "\n",
    "    <owl:NamedIndividual rdf:about=\"<path to onto>/onto_example.rdf#OWLNamedIndividual_443b4123_3a46_49a2_b8c2_29ced3899779\">\n",
    "        <rdf:type rdf:resource=\"<path to onto>/lotr_example.owl#wizard\"/>\n",
    "        <lotr:has_name>Gandalf the Grey</lotr:has_name>\n",
    "        <lotr:has_name>Mithrandir</lotr:has_name>\n",
    "        <rdfs:label xml:lang=\"en-gb\">Gandalf the Grey</rdfs:label>\n",
    "    </owl:NamedIndividual>\n",
    "    <owl:Axiom>\n",
    "        <owl:annotatedSource rdf:resource=\"<path to onto>/onto_example.rdf#OWLNamedIndividual_443b4123_3a46_49a2_b8c2_29ced3899779\"/>\n",
    "        <owl:annotatedProperty rdf:resource=\"<path to onto>/lotr_example.owl#has_name\"/>\n",
    "        <owl:annotatedTarget>Gandalf the Grey</owl:annotatedTarget>\n",
    "        <rdfs:isDefinedBy>Bogdan</rdfs:isDefinedBy>\n",
    "    </owl:Axiom>\n",
    "    \n",
    "\n",
    "\n",
    "    <!-- <path to onto>/onto_example.rdf#OWLNamedIndividual_8584c614_acbd_4080_9032_a3a6dd9d1a9b -->\n",
    "\n",
    "    <owl:NamedIndividual rdf:about=\"<path to onto>/onto_example.rdf#OWLNamedIndividual_8584c614_acbd_4080_9032_a3a6dd9d1a9b\">\n",
    "        <rdf:type rdf:resource=\"<path to onto>/lotr_example.owl#human\"/>\n",
    "        <lotr:is_friend_with rdf:resource=\"<path to onto>/onto_example.rdf#OWLNamedIndividual_443b4123_3a46_49a2_b8c2_29ced3899779\"/>\n",
    "        <lotr:is_friend_with rdf:resource=\"<path to onto>/onto_example.rdf#OWLNamedIndividual_96afddcd_81ae_467a_9468_225b426210f4\"/>\n",
    "        <lotr:has_name>Aragorn, son of Arathorn</lotr:has_name>\n",
    "        <rdfs:label xml:lang=\"en-gb\">Aragorn, son of Arathorn</rdfs:label>\n",
    "    </owl:NamedIndividual>\n",
    "    \n",
    "\n",
    "\n",
    "    <!-- <path to onto>/onto_example.rdf#OWLNamedIndividual_96afddcd_81ae_467a_9468_225b426210f4 -->\n",
    "\n",
    "    <owl:NamedIndividual rdf:about=\"<path to onto>/onto_example.rdf#OWLNamedIndividual_96afddcd_81ae_467a_9468_225b426210f4\">\n",
    "        <rdf:type rdf:resource=\"<path to onto>/lotr_example.owl#elf\"/>\n",
    "        <lotr:has_name>Legolas Greenleaf</lotr:has_name>\n",
    "        <rdfs:label xml:lang=\"en-gb\">Legolas</rdfs:label>\n",
    "    </owl:NamedIndividual>\n",
    "```"
   ]
  },
  {
   "cell_type": "markdown",
   "id": "1176b60d",
   "metadata": {},
   "source": [
    "When we use the `BOWLDIConvert` class to convert the information of `onto_example.rdf` into AgentSpeak code, the output includes a defined source value for every belief. Information that was defined in the `onto_example.rdf` ontology will be designated as `self`, while the information imported from the `lotr_example.owl` ontology will be marked using the imported ontology's IRI. The latter makes it possible to import the relevant ontology when converting the AgentSpeak code back to an ontology. Since we want the information that is transferred into AgentSpeak code to be complete, the various concepts of the imported ontology are included in the output."
   ]
  },
  {
   "cell_type": "code",
   "execution_count": 53,
   "id": "b1d68a34",
   "metadata": {},
   "outputs": [
    {
     "name": "stdout",
     "output_type": "stream",
     "text": [
      "{'status': 'error', 'message': 'Input file does not exist.'}\n"
     ]
    }
   ],
   "source": [
    "from bowldi import BOWLDIConverter\n",
    "\n",
    "converter = BOWLDIConverter(\n",
    "    input_data_path=\"onto_example.rdf\",\n",
    ")\n",
    "\n",
    "if converter.get_response().get(\"status\") == \"success\":\n",
    "    print(converter.agentspeak_output)\n",
    "else:\n",
    "    print(converter.get_response())"
   ]
  },
  {
   "cell_type": "markdown",
   "id": "f9105986",
   "metadata": {},
   "source": [
    "If everything was as expected, the AgentSpeak output should be saved in the `output.asl` file and look like follows:\n",
    "\n",
    "```prolog\n",
    "concept(wizard)[source(['<path to ontology>/lotr_example.owl'])].\n",
    "is_a(wizard, person)[source(['<path to ontology>/lotr_example.owl'])].\n",
    "concept(human)[source(['<path to ontology>/lotr_example.owl'])].\n",
    "is_a(human, person)[source(['<path to ontology>/lotr_example.owl'])].\n",
    "concept(elf)[source(['<path to ontology>/lotr_example.owl'])].\n",
    "is_a(elf, person)[source(['<path to ontology>/lotr_example.owl'])].\n",
    "concept(kingdom)[source(['<path to ontology>/lotr_example.owl'])].\n",
    "concept(person)[source(['<path to ontology>/lotr_example.owl'])].\n",
    "concept(ring)[source(['<path to ontology>/lotr_example.owl'])].\n",
    "concept(dwarf)[source(['<path to ontology>/lotr_example.owl'])].\n",
    "is_a(dwarf, person)[source(['<path to ontology>/lotr_example.owl'])].\n",
    "concept(hobbit)[source(['<path to ontology>/lotr_example.owl'])].\n",
    "is_a(hobbit, person)[source(['<path to ontology>/lotr_example.owl'])].\n",
    "object_property(person, is_friend_with, person)[source(['<path to ontology>/lotr_example.owl'])].\n",
    "object_property(kingdom, has_king, person)[source(['<path to ontology>/lotr_example.owl'])].\n",
    "object_property(person, is_in_team_with, person)[source(['<path to ontology>/lotr_example.owl'])].\n",
    "object_property(person, has_ring, ring)[source(['<path to ontology>/lotr_example.owl'])].\n",
    "object_property(person, fights_against, person)[source(['<path to ontology>/lotr_example.owl'])].\n",
    "data_property(person, has_name, str)[source(['<path to ontology>/lotr_example.owl'])].\n",
    "data_property(ring, description, str)[source(['<path to ontology>/lotr_example.owl'])].\n",
    "individual(gandalf_the_grey, wizard)[source(['self'])].\n",
    "individual(aragorn_son_of_arathorn, human)[source(['self'])].\n",
    "individual(legolas, elf)[source(['self'])].\n",
    "relation(gandalf_the_grey, has_name, \"Gandalf the Grey\")[source(Bogdan)].\n",
    "relation(gandalf_the_grey, has_name, \"Mithrandir\")[source(self)].\n",
    "relation(aragorn_son_of_arathorn, is_friend_with, gandalf_the_grey)[source(self)].\n",
    "relation(aragorn_son_of_arathorn, is_friend_with, legolas)[source(self)].\n",
    "relation(aragorn_son_of_arathorn, has_name, \"Aragorn, son of Arathorn\")[source(self)].\n",
    "relation(legolas, has_name, \"Legolas Greenleaf\")[source(self)].\n",
    "```"
   ]
  },
  {
   "cell_type": "markdown",
   "id": "5422fb82",
   "metadata": {},
   "source": [
    "## Example 4: Converting AgentSpeak with external source to OWL\n",
    "\n",
    "The `BOWLDIConverter` class can convert AgentSpeak code into an ontology file even when source argument of some beliefs references another source. If that other source is an ontology (i.e. if the source is a link it is assumed to be an ontology), then the translation process will try to import the ontology before processing the rest of the contents of the AgentSpeak code. The following is a simple example of reading the AgentSpeak code created in the previous example and converting it to an ontology file."
   ]
  },
  {
   "cell_type": "code",
   "execution_count": 54,
   "id": "e202f38c",
   "metadata": {},
   "outputs": [
    {
     "name": "stdout",
     "output_type": "stream",
     "text": [
      "{'status': 'error', 'message': 'Input file does not exist.'}\n"
     ]
    }
   ],
   "source": [
    "from bowldi import BOWLDIConverter\n",
    "\n",
    "converter = BOWLDIConverter(\n",
    "    input_data_path=\"output.asl\",\n",
    ")\n",
    "\n",
    "print(converter.get_response())"
   ]
  },
  {
   "cell_type": "markdown",
   "id": "664ea475",
   "metadata": {},
   "source": [
    "The output of the last line should be indicating success:\n",
    "\n",
    "```json\n",
    "{\n",
    "  \"status\": \"success\",\n",
    "  \"message\": \"Conversion complete.\",\n",
    "  \"file\": \"<path to file>/output.owl\"\n",
    "}\n",
    "```"
   ]
  },
  {
   "cell_type": "markdown",
   "id": "3a1c4132",
   "metadata": {},
   "source": [
    "The rendered file should not contain definitions of the concepts defined in the imported ontology. Instead, only the concepts designated as not being sourced by an external ontology should be included.\n",
    "\n",
    "One major difference between the initial ontolgoy of Example 3 above, and the output ontology of this example is that all the concepts that are \"native\" to the observed ontology (and not to the imported ontology) have one new property added, namely the `isDefinedBy` annotation property. The value of this annotation data property is sourced in the `source` argument of a specific belief. This property is used to indicate the source of the information, i.e. the agent that provided the information."
   ]
  }
 ],
 "metadata": {
  "kernelspec": {
   "display_name": "sin",
   "language": "python",
   "name": "python3"
  },
  "language_info": {
   "codemirror_mode": {
    "name": "ipython",
    "version": 3
   },
   "file_extension": ".py",
   "mimetype": "text/x-python",
   "name": "python",
   "nbconvert_exporter": "python",
   "pygments_lexer": "ipython3",
   "version": "3.12.9"
  }
 },
 "nbformat": 4,
 "nbformat_minor": 5
}
